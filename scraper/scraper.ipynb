{
 "cells": [
  {
   "cell_type": "code",
   "execution_count": 123,
   "id": "initial_id",
   "metadata": {
    "collapsed": true,
    "ExecuteTime": {
     "end_time": "2023-11-19T02:17:01.936574645Z",
     "start_time": "2023-11-19T02:17:01.892652791Z"
    }
   },
   "outputs": [],
   "source": [
    "import pandas as pd\n",
    "\n",
    "import re\n",
    "import time\n",
    "import os\n",
    "from urllib.parse import urlparse\n",
    "\n",
    "import requests\n",
    "from bs4 import BeautifulSoup\n",
    "from selenium import webdriver\n",
    "from selenium.webdriver.common.by import By"
   ]
  },
  {
   "cell_type": "code",
   "execution_count": 124,
   "outputs": [
    {
     "data": {
      "text/plain": "                                           Bank  \\\n0   Powszechna Kasa Oszczędności Bank Polski SA   \n1   Powszechna Kasa Oszczędności Bank Polski SA   \n2                  Bank Handlowy w Warszawie SA   \n3                            ING Bank Śląski SA   \n4                            ING Bank Śląski SA   \n5                            ING Bank Śląski SA   \n6                            ING Bank Śląski SA   \n7                            ING Bank Śląski SA   \n8                      Santander Bank Polska SA   \n9                      Santander Bank Polska SA   \n10                                   mBank S.A.   \n11                                   mBank S.A.   \n12                                   mBank S.A.   \n13                                   mBank S.A.   \n14                           Bank Millennium SA   \n15                           Bank Millennium SA   \n16                               Bank Pekao SA    \n17                             Bank Pocztowy SA   \n18                             Bank Pocztowy SA   \n19                             Bank Pocztowy SA   \n20                   Bank Ochrony Środowiska SA   \n21                                 Plus Bank SA   \n22                                 Plus Bank SA   \n23                                 Nest Bank SA   \n24                                 Nest Bank SA   \n25               Credit Agricole Bank Polska SA   \n26               Credit Agricole Bank Polska SA   \n27               Credit Agricole Bank Polska SA   \n28               Credit Agricole Bank Polska SA   \n29                   BNP Paribas Bank Polska SA   \n30                   Santander Consumer Bank SA   \n31                   Santander Consumer Bank SA   \n32                        Toyota Bank Polska SA   \n33                                Alior Bank SA   \n34                                Alior Bank SA   \n35                                 Bank Nowy SA   \n36                      VeloBank Spółka Akcyjna   \n37                      VeloBank Spółka Akcyjna   \n\n                                                 Link                  Typ   \\\n0   https://www.pkobp.pl/oplaty-i-oprocentowanie/o...        Osoby fizyczne   \n1   https://www.pkobp.pl/oplaty-i-oprocentowanie/o...  Klienci korporacyjni   \n2                  https://www.citibank.pl/dokumenty/                   NaN   \n3   https://www.ing.pl/indywidualni/tabele-i-regul...        Osoby fizyczne   \n4   https://www.ing.pl/indywidualni/tabele-i-regul...        Osoby fizyczne   \n5   https://www.ing.pl/indywidualni/tabele-i-regul...        Osoby fizyczne   \n6   https://www.ing.pl/male-firmy/tabele-i-regulam...  Klienci korporacyjni   \n7   https://www.ing.pl/dokumenty-fis-i-korporacji/...  Klienci korporacyjni   \n8   https://www.santander.pl/przydatne-informacje/...        Osoby fizyczne   \n9   https://www.santander.pl/przydatne-informacje/...  Klienci korporacyjni   \n10  https://www.mbank.pl/pomoc/oprocentowanie/ofer...        Osoby fizyczne   \n11  https://www.mbank.pl/pomoc/oprocentowanie/priv...        Osoby fizyczne   \n12   https://www.mbank.pl/pomoc/oprocentowanie/firmy/  Klienci korporacyjni   \n13  https://www.mbank.pl/pomoc/oprocentowanie/msp-...  Klienci korporacyjni   \n14  https://www.bankmillennium.pl/klienci-indywidu...        Osoby fizyczne   \n15  https://www.bankmillennium.pl/biznes/produkty/...  Klienci korporacyjni   \n16  https://www.pekao.com.pl/o-banku/stopka/cennik...                   NaN   \n17  https://www.pocztowy.pl/indywidualni/oprocento...        Osoby fizyczne   \n18  https://www.pocztowy.pl/male-firmy/oprocentowanie  Klienci korporacyjni   \n19  https://www.pocztowy.pl/instytucje/oprocentowanie  Klienci korporacyjni   \n20  https://www.bosbank.pl/wazne-informacje/tabele...                   NaN   \n21  https://plusbank.pl/oferta-dla-ciebie/konto-os...        Osoby fizyczne   \n22  https://plusbank.pl/oferta-dla-firmy/rachunki/...  Klienci korporacyjni   \n23  https://nestbank.pl/centrum-informacji/regulam...        Osoby fizyczne   \n24  https://nestbank.pl/centrum-informacji/regulam...  Klienci korporacyjni   \n25      https://www.credit-agricole.pl/oprocentowanie        Osoby fizyczne   \n26  https://www.credit-agricole.pl/dokumenty/konta...        Osoby fizyczne   \n27  https://www.credit-agricole.pl/dokumenty/msp/t...  Klienci korporacyjni   \n28  https://www.credit-agricole.pl/rolnictwo/oszcz...  Klienci korporacyjni   \n29  https://www.bnpparibas.pl/repozytorium/oplaty-...                   NaN   \n30  https://www.santanderconsumer.pl/oszczednosci/...                   NaN   \n31  https://www.santanderconsumer.pl/oszczednosci/...                   NaN   \n32  https://www.toyotabank.pl/obsluga-klienta/doku...                   NaN   \n33  https://www.aliorbank.pl/dodatkowe-informacje/...        Osoby fizyczne   \n34  https://www.aliorbank.pl/dodatkowe-informacje/...  Klienci korporacyjni   \n35  https://online.banknowy.pl/portal_online/dokum...                   NaN   \n36  https://www.velobank.pl/klienci-indywidualni/c...        Osoby fizyczne   \n37   https://www.velobank.pl/firmy/centrum-dokumentow  Klienci korporacyjni   \n\n                                                Uwagi  \n0                                                 NaN  \n1                                                 NaN  \n2   [zakładki: klienci indywidualni > konta > tabe...  \n3                                                 NaN  \n4                                                 NaN  \n5                                                 NaN  \n6                                                 NaN  \n7                                                 NaN  \n8                                                 NaN  \n9                                                 NaN  \n10                                                NaN  \n11                                                NaN  \n12                                                NaN  \n13                                                NaN  \n14  [uwaga - w tym przypadku nie tabela oprocentow...  \n15                                                NaN  \n16   [osobne regulaminy dla poszczególnych segmentów]  \n17                                                NaN  \n18                                                NaN  \n19                                                NaN  \n20  [osobne regulaminy dla poszczególnych segmentó...  \n21                   [zakładka tabela oprocentowania]  \n22                   [zakładka tabela oprocentowania]  \n23                                                NaN  \n24                                                NaN  \n25                                                NaN  \n26                                                NaN  \n27                                                NaN  \n28                                                NaN  \n29  [osobne tabele oprocentowania dla poszczególny...  \n30                                                NaN  \n31                                                NaN  \n32  [osobne tabele oprocentowania dla poszczególny...  \n33                                                NaN  \n34                                                NaN  \n35                                                NaN  \n36  [osobne tabele oprocentowania dla Kont osobist...  \n37                                                NaN  ",
      "text/html": "<div>\n<style scoped>\n    .dataframe tbody tr th:only-of-type {\n        vertical-align: middle;\n    }\n\n    .dataframe tbody tr th {\n        vertical-align: top;\n    }\n\n    .dataframe thead th {\n        text-align: right;\n    }\n</style>\n<table border=\"1\" class=\"dataframe\">\n  <thead>\n    <tr style=\"text-align: right;\">\n      <th></th>\n      <th>Bank</th>\n      <th>Link</th>\n      <th>Typ</th>\n      <th>Uwagi</th>\n    </tr>\n  </thead>\n  <tbody>\n    <tr>\n      <th>0</th>\n      <td>Powszechna Kasa Oszczędności Bank Polski SA</td>\n      <td>https://www.pkobp.pl/oplaty-i-oprocentowanie/o...</td>\n      <td>Osoby fizyczne</td>\n      <td>NaN</td>\n    </tr>\n    <tr>\n      <th>1</th>\n      <td>Powszechna Kasa Oszczędności Bank Polski SA</td>\n      <td>https://www.pkobp.pl/oplaty-i-oprocentowanie/o...</td>\n      <td>Klienci korporacyjni</td>\n      <td>NaN</td>\n    </tr>\n    <tr>\n      <th>2</th>\n      <td>Bank Handlowy w Warszawie SA</td>\n      <td>https://www.citibank.pl/dokumenty/</td>\n      <td>NaN</td>\n      <td>[zakładki: klienci indywidualni &gt; konta &gt; tabe...</td>\n    </tr>\n    <tr>\n      <th>3</th>\n      <td>ING Bank Śląski SA</td>\n      <td>https://www.ing.pl/indywidualni/tabele-i-regul...</td>\n      <td>Osoby fizyczne</td>\n      <td>NaN</td>\n    </tr>\n    <tr>\n      <th>4</th>\n      <td>ING Bank Śląski SA</td>\n      <td>https://www.ing.pl/indywidualni/tabele-i-regul...</td>\n      <td>Osoby fizyczne</td>\n      <td>NaN</td>\n    </tr>\n    <tr>\n      <th>5</th>\n      <td>ING Bank Śląski SA</td>\n      <td>https://www.ing.pl/indywidualni/tabele-i-regul...</td>\n      <td>Osoby fizyczne</td>\n      <td>NaN</td>\n    </tr>\n    <tr>\n      <th>6</th>\n      <td>ING Bank Śląski SA</td>\n      <td>https://www.ing.pl/male-firmy/tabele-i-regulam...</td>\n      <td>Klienci korporacyjni</td>\n      <td>NaN</td>\n    </tr>\n    <tr>\n      <th>7</th>\n      <td>ING Bank Śląski SA</td>\n      <td>https://www.ing.pl/dokumenty-fis-i-korporacji/...</td>\n      <td>Klienci korporacyjni</td>\n      <td>NaN</td>\n    </tr>\n    <tr>\n      <th>8</th>\n      <td>Santander Bank Polska SA</td>\n      <td>https://www.santander.pl/przydatne-informacje/...</td>\n      <td>Osoby fizyczne</td>\n      <td>NaN</td>\n    </tr>\n    <tr>\n      <th>9</th>\n      <td>Santander Bank Polska SA</td>\n      <td>https://www.santander.pl/przydatne-informacje/...</td>\n      <td>Klienci korporacyjni</td>\n      <td>NaN</td>\n    </tr>\n    <tr>\n      <th>10</th>\n      <td>mBank S.A.</td>\n      <td>https://www.mbank.pl/pomoc/oprocentowanie/ofer...</td>\n      <td>Osoby fizyczne</td>\n      <td>NaN</td>\n    </tr>\n    <tr>\n      <th>11</th>\n      <td>mBank S.A.</td>\n      <td>https://www.mbank.pl/pomoc/oprocentowanie/priv...</td>\n      <td>Osoby fizyczne</td>\n      <td>NaN</td>\n    </tr>\n    <tr>\n      <th>12</th>\n      <td>mBank S.A.</td>\n      <td>https://www.mbank.pl/pomoc/oprocentowanie/firmy/</td>\n      <td>Klienci korporacyjni</td>\n      <td>NaN</td>\n    </tr>\n    <tr>\n      <th>13</th>\n      <td>mBank S.A.</td>\n      <td>https://www.mbank.pl/pomoc/oprocentowanie/msp-...</td>\n      <td>Klienci korporacyjni</td>\n      <td>NaN</td>\n    </tr>\n    <tr>\n      <th>14</th>\n      <td>Bank Millennium SA</td>\n      <td>https://www.bankmillennium.pl/klienci-indywidu...</td>\n      <td>Osoby fizyczne</td>\n      <td>[uwaga - w tym przypadku nie tabela oprocentow...</td>\n    </tr>\n    <tr>\n      <th>15</th>\n      <td>Bank Millennium SA</td>\n      <td>https://www.bankmillennium.pl/biznes/produkty/...</td>\n      <td>Klienci korporacyjni</td>\n      <td>NaN</td>\n    </tr>\n    <tr>\n      <th>16</th>\n      <td>Bank Pekao SA</td>\n      <td>https://www.pekao.com.pl/o-banku/stopka/cennik...</td>\n      <td>NaN</td>\n      <td>[osobne regulaminy dla poszczególnych segmentów]</td>\n    </tr>\n    <tr>\n      <th>17</th>\n      <td>Bank Pocztowy SA</td>\n      <td>https://www.pocztowy.pl/indywidualni/oprocento...</td>\n      <td>Osoby fizyczne</td>\n      <td>NaN</td>\n    </tr>\n    <tr>\n      <th>18</th>\n      <td>Bank Pocztowy SA</td>\n      <td>https://www.pocztowy.pl/male-firmy/oprocentowanie</td>\n      <td>Klienci korporacyjni</td>\n      <td>NaN</td>\n    </tr>\n    <tr>\n      <th>19</th>\n      <td>Bank Pocztowy SA</td>\n      <td>https://www.pocztowy.pl/instytucje/oprocentowanie</td>\n      <td>Klienci korporacyjni</td>\n      <td>NaN</td>\n    </tr>\n    <tr>\n      <th>20</th>\n      <td>Bank Ochrony Środowiska SA</td>\n      <td>https://www.bosbank.pl/wazne-informacje/tabele...</td>\n      <td>NaN</td>\n      <td>[osobne regulaminy dla poszczególnych segmentó...</td>\n    </tr>\n    <tr>\n      <th>21</th>\n      <td>Plus Bank SA</td>\n      <td>https://plusbank.pl/oferta-dla-ciebie/konto-os...</td>\n      <td>Osoby fizyczne</td>\n      <td>[zakładka tabela oprocentowania]</td>\n    </tr>\n    <tr>\n      <th>22</th>\n      <td>Plus Bank SA</td>\n      <td>https://plusbank.pl/oferta-dla-firmy/rachunki/...</td>\n      <td>Klienci korporacyjni</td>\n      <td>[zakładka tabela oprocentowania]</td>\n    </tr>\n    <tr>\n      <th>23</th>\n      <td>Nest Bank SA</td>\n      <td>https://nestbank.pl/centrum-informacji/regulam...</td>\n      <td>Osoby fizyczne</td>\n      <td>NaN</td>\n    </tr>\n    <tr>\n      <th>24</th>\n      <td>Nest Bank SA</td>\n      <td>https://nestbank.pl/centrum-informacji/regulam...</td>\n      <td>Klienci korporacyjni</td>\n      <td>NaN</td>\n    </tr>\n    <tr>\n      <th>25</th>\n      <td>Credit Agricole Bank Polska SA</td>\n      <td>https://www.credit-agricole.pl/oprocentowanie</td>\n      <td>Osoby fizyczne</td>\n      <td>NaN</td>\n    </tr>\n    <tr>\n      <th>26</th>\n      <td>Credit Agricole Bank Polska SA</td>\n      <td>https://www.credit-agricole.pl/dokumenty/konta...</td>\n      <td>Osoby fizyczne</td>\n      <td>NaN</td>\n    </tr>\n    <tr>\n      <th>27</th>\n      <td>Credit Agricole Bank Polska SA</td>\n      <td>https://www.credit-agricole.pl/dokumenty/msp/t...</td>\n      <td>Klienci korporacyjni</td>\n      <td>NaN</td>\n    </tr>\n    <tr>\n      <th>28</th>\n      <td>Credit Agricole Bank Polska SA</td>\n      <td>https://www.credit-agricole.pl/rolnictwo/oszcz...</td>\n      <td>Klienci korporacyjni</td>\n      <td>NaN</td>\n    </tr>\n    <tr>\n      <th>29</th>\n      <td>BNP Paribas Bank Polska SA</td>\n      <td>https://www.bnpparibas.pl/repozytorium/oplaty-...</td>\n      <td>NaN</td>\n      <td>[osobne tabele oprocentowania dla poszczególny...</td>\n    </tr>\n    <tr>\n      <th>30</th>\n      <td>Santander Consumer Bank SA</td>\n      <td>https://www.santanderconsumer.pl/oszczednosci/...</td>\n      <td>NaN</td>\n      <td>NaN</td>\n    </tr>\n    <tr>\n      <th>31</th>\n      <td>Santander Consumer Bank SA</td>\n      <td>https://www.santanderconsumer.pl/oszczednosci/...</td>\n      <td>NaN</td>\n      <td>NaN</td>\n    </tr>\n    <tr>\n      <th>32</th>\n      <td>Toyota Bank Polska SA</td>\n      <td>https://www.toyotabank.pl/obsluga-klienta/doku...</td>\n      <td>NaN</td>\n      <td>[osobne tabele oprocentowania dla poszczególny...</td>\n    </tr>\n    <tr>\n      <th>33</th>\n      <td>Alior Bank SA</td>\n      <td>https://www.aliorbank.pl/dodatkowe-informacje/...</td>\n      <td>Osoby fizyczne</td>\n      <td>NaN</td>\n    </tr>\n    <tr>\n      <th>34</th>\n      <td>Alior Bank SA</td>\n      <td>https://www.aliorbank.pl/dodatkowe-informacje/...</td>\n      <td>Klienci korporacyjni</td>\n      <td>NaN</td>\n    </tr>\n    <tr>\n      <th>35</th>\n      <td>Bank Nowy SA</td>\n      <td>https://online.banknowy.pl/portal_online/dokum...</td>\n      <td>NaN</td>\n      <td>NaN</td>\n    </tr>\n    <tr>\n      <th>36</th>\n      <td>VeloBank Spółka Akcyjna</td>\n      <td>https://www.velobank.pl/klienci-indywidualni/c...</td>\n      <td>Osoby fizyczne</td>\n      <td>[osobne tabele oprocentowania dla Kont osobist...</td>\n    </tr>\n    <tr>\n      <th>37</th>\n      <td>VeloBank Spółka Akcyjna</td>\n      <td>https://www.velobank.pl/firmy/centrum-dokumentow</td>\n      <td>Klienci korporacyjni</td>\n      <td>NaN</td>\n    </tr>\n  </tbody>\n</table>\n</div>"
     },
     "execution_count": 124,
     "metadata": {},
     "output_type": "execute_result"
    }
   ],
   "source": [
    "df = pd.read_csv('banki.csv')\n",
    "df"
   ],
   "metadata": {
    "collapsed": false,
    "ExecuteTime": {
     "end_time": "2023-11-19T02:17:04.176437828Z",
     "start_time": "2023-11-19T02:17:04.128688612Z"
    }
   },
   "id": "5e1e05e1ceb553a3"
  },
  {
   "cell_type": "code",
   "execution_count": 165,
   "outputs": [],
   "source": [
    "def fix_url(curr, target):\n",
    "    if target[0] == '/':\n",
    "        return 'https://' + urlparse(curr).netloc + target\n",
    "    else:\n",
    "        return target\n",
    "\n",
    "def try_download(url, path):\n",
    "    response = requests.get(url, allow_redirects=True)\n",
    "    if response.headers.get('content-type') in ['application/pdf', 'application/pdf;charset=UTF-8']:\n",
    "        open(os.path.join(path, url.rsplit('/', 1)[-1]+'.pdf'), 'wb').write(response.content)\n",
    "        print('OK', url.rsplit('/', 1)[-1]+'.pdf')\n",
    "        return True\n",
    "    else:\n",
    "        print(':(', url)\n",
    "        return False\n",
    "    "
   ],
   "metadata": {
    "collapsed": false,
    "ExecuteTime": {
     "end_time": "2023-11-19T02:59:41.752224941Z",
     "start_time": "2023-11-19T02:59:41.709996706Z"
    }
   },
   "id": "266d750f98202a4f"
  },
  {
   "cell_type": "code",
   "execution_count": 166,
   "outputs": [
    {
     "name": "stdout",
     "output_type": "stream",
     "text": [
      "Oferta Lokat Konto Osobiste Citi Priority CitiKonto obowiÄzuje od 18.10.2023\n",
      "Regulamin oferty âKonto i Lokata Citigoldâ\n"
     ]
    }
   ],
   "source": [
    "search_result = []\n",
    "\n",
    "for index, row in df[df['Bank'] == 'Bank Handlowy w Warszawie SA'].iterrows():\n",
    "    response = requests.get(row['Link'])\n",
    "    soup = BeautifulSoup(response.text, 'html.parser')\n",
    "    links = soup.find_all('a', href=True)\n",
    "    search_result.append([row['Bank'], []])\n",
    "    for link in links:\n",
    "        try:\n",
    "            href = link['href']\n",
    "            html = str(link)\n",
    "            if re.search('lokat', link['title'], re.IGNORECASE) and re.search('konto', link['title'], re.IGNORECASE):\n",
    "                url = fix_url(row['Link'], href)\n",
    "                if try_download(url, '/home/krzysztof/Projekty/Supervisionhack3/scraper/downloads'):\n",
    "                    search_result[-1][1].append(href)\n",
    "        except:\n",
    "            pass"
   ],
   "metadata": {
    "collapsed": false,
    "ExecuteTime": {
     "end_time": "2023-11-19T03:03:46.548683179Z",
     "start_time": "2023-11-19T03:03:45.898992024Z"
    }
   },
   "id": "deb50bebcede9e1"
  }
 ],
 "metadata": {
  "kernelspec": {
   "display_name": "Python 3",
   "language": "python",
   "name": "python3"
  },
  "language_info": {
   "codemirror_mode": {
    "name": "ipython",
    "version": 2
   },
   "file_extension": ".py",
   "mimetype": "text/x-python",
   "name": "python",
   "nbconvert_exporter": "python",
   "pygments_lexer": "ipython2",
   "version": "2.7.6"
  }
 },
 "nbformat": 4,
 "nbformat_minor": 5
}
