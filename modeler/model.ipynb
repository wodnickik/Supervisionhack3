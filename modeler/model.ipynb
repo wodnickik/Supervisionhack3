{
 "cells": [
  {
   "cell_type": "code",
   "execution_count": 1,
   "metadata": {},
   "outputs": [
    {
     "name": "stderr",
     "output_type": "stream",
     "text": [
      "2023-11-19 05:00:29.041399: E tensorflow/compiler/xla/stream_executor/cuda/cuda_dnn.cc:9342] Unable to register cuDNN factory: Attempting to register factory for plugin cuDNN when one has already been registered\n",
      "2023-11-19 05:00:29.041521: E tensorflow/compiler/xla/stream_executor/cuda/cuda_fft.cc:609] Unable to register cuFFT factory: Attempting to register factory for plugin cuFFT when one has already been registered\n",
      "2023-11-19 05:00:29.041564: E tensorflow/compiler/xla/stream_executor/cuda/cuda_blas.cc:1518] Unable to register cuBLAS factory: Attempting to register factory for plugin cuBLAS when one has already been registered\n",
      "2023-11-19 05:00:29.056178: I tensorflow/core/platform/cpu_feature_guard.cc:182] This TensorFlow binary is optimized to use available CPU instructions in performance-critical operations.\n",
      "To enable the following instructions: AVX2 FMA, in other operations, rebuild TensorFlow with the appropriate compiler flags.\n",
      "2023-11-19 05:00:30.365115: W tensorflow/compiler/tf2tensorrt/utils/py_utils.cc:38] TF-TRT Warning: Could not find TensorRT\n"
     ]
    }
   ],
   "source": [
    "import numpy as np\n",
    "import pandas as pd\n",
    "import matplotlib.pyplot as plt\n",
    "import tensorflow as tf\n",
    "import datetime as dt\n",
    "from sklearn.preprocessing import MinMaxScaler, StandardScaler"
   ]
  },
  {
   "cell_type": "code",
   "execution_count": 2,
   "metadata": {},
   "outputs": [],
   "source": [
    "df = pd.read_csv(\"../data/model_data/mbank_deposits_2012_2023.csv\", sep=\";\") # wartosci stóp procentowych\n",
    "df2 = pd.read_excel(\"../data/model_data/akcje_mbank.xlsx\") # wartosci akcji i wolumenu\n",
    "df3 = pd.read_excel(\"../data/model_data/bezrobocie.xlsx\") # wartosci bezrobocia"
   ]
  },
  {
   "cell_type": "code",
   "execution_count": 3,
   "metadata": {},
   "outputs": [],
   "source": [
    "dates = [dt.datetime(year, month, 1) for year, month in zip(df[\"year\"], df[\"month\"])]"
   ]
  },
  {
   "cell_type": "code",
   "execution_count": 4,
   "metadata": {},
   "outputs": [],
   "source": [
    "df[\"Date\"] = dates"
   ]
  },
  {
   "cell_type": "code",
   "execution_count": 5,
   "metadata": {},
   "outputs": [],
   "source": [
    "# fill missing days in df\n",
    "df = df.set_index(\"Date\")\n",
    "idx = pd.date_range(df.index.min(), df.index.max())\n",
    "df = df.reindex(idx, fill_value=np.nan)\n",
    "df = df.reset_index()\n",
    "df.rename(columns={\"index\": \"Date\"}, inplace=True)\n",
    "df.drop(columns=[\"year\", \"month\"], inplace=True)\n",
    "df[\"3_months\"] = df[\"3_months\"].interpolate()\n",
    "df[\"6_months\"] = df[\"6_months\"].interpolate()"
   ]
  },
  {
   "cell_type": "code",
   "execution_count": 6,
   "metadata": {},
   "outputs": [],
   "source": [
    "df2[\"Date\"] = pd.to_datetime(df2[\"Date\"])\n",
    "df2 = df2.set_index(\"Date\")\n",
    "idx = pd.date_range(df2.index.min(), df2.index.max())\n",
    "df2 = df2.reindex(idx, fill_value=np.nan)\n",
    "df2 = df2.reset_index()\n",
    "df2.rename(columns={\"index\": \"Date\"}, inplace=True)\n",
    "df2[\"Close\"] = df2[\"Close\"].ffill()\n",
    "df2[\"Volume\"] = df2[\"Volume\"].ffill()\n",
    "df2[\"Date\"] = df2[\"Date\"].dt.date\n",
    "df2[\"Date\"] = pd.to_datetime(df2[\"Date\"])"
   ]
  },
  {
   "cell_type": "code",
   "execution_count": 7,
   "metadata": {},
   "outputs": [],
   "source": [
    "df3[\"Data\"] = pd.to_datetime(df3[\"Data\"])\n",
    "df3 = df3.set_index(\"Data\")\n",
    "idx = pd.date_range(df3.index.min(), df3.index.max())\n",
    "df3 = df3.reindex(idx, fill_value=np.nan)\n",
    "df3 = df3.reset_index()\n",
    "df3.rename(columns={\"index\": \"Date\"}, inplace=True)\n",
    "df3[\"Stopa\"] = df3[\"Stopa\"].interpolate()\n",
    "df3[\"Date\"] = df3[\"Date\"].dt.date\n",
    "df3[\"Date\"] = pd.to_datetime(df3[\"Date\"])"
   ]
  },
  {
   "cell_type": "code",
   "execution_count": 8,
   "metadata": {},
   "outputs": [],
   "source": [
    "# merging into one df\n",
    "df = df.merge(df2, on=\"Date\", how=\"left\").merge(df3, on=\"Date\", how=\"left\").dropna()"
   ]
  },
  {
   "cell_type": "code",
   "execution_count": 9,
   "metadata": {},
   "outputs": [],
   "source": [
    "n1 = int(0.8 * len(df))\n",
    "n2 = int(0.9 * len(df))"
   ]
  },
  {
   "cell_type": "code",
   "execution_count": 10,
   "metadata": {},
   "outputs": [],
   "source": [
    "df.drop(columns=[\"Date\", \"6_months\"], inplace=True)"
   ]
  },
  {
   "cell_type": "code",
   "execution_count": 11,
   "metadata": {},
   "outputs": [
    {
     "data": {
      "text/plain": [
       "Index(['3_months', 'Close', 'Volume', 'Stopa'], dtype='object')"
      ]
     },
     "execution_count": 11,
     "metadata": {},
     "output_type": "execute_result"
    }
   ],
   "source": [
    "df.columns"
   ]
  },
  {
   "cell_type": "code",
   "execution_count": 12,
   "metadata": {},
   "outputs": [],
   "source": [
    "df_train = df.iloc[:n1, :]"
   ]
  },
  {
   "cell_type": "markdown",
   "metadata": {},
   "source": [
    "## Preprocessing"
   ]
  },
  {
   "cell_type": "code",
   "execution_count": 13,
   "metadata": {},
   "outputs": [],
   "source": [
    "scaler = MinMaxScaler()\n",
    "scaler.fit(df_train[\"3_months\"].values.reshape(-1, 1))\n",
    "df[\"3_months\"] = scaler.transform(df[\"3_months\"].values.reshape(-1, 1))"
   ]
  },
  {
   "cell_type": "code",
   "execution_count": 14,
   "metadata": {},
   "outputs": [],
   "source": [
    "scaler = StandardScaler()\n",
    "scaler.fit(df_train[\"Close\"].values.reshape(-1, 1))\n",
    "df[\"Close\"] = scaler.transform(df[\"Close\"].values.reshape(-1, 1))"
   ]
  },
  {
   "cell_type": "code",
   "execution_count": 15,
   "metadata": {},
   "outputs": [],
   "source": [
    "scaler = StandardScaler()\n",
    "scaler.fit(np.log(df_train[\"Volume\"]).values.reshape(-1, 1))\n",
    "df[\"Volume\"] = scaler.transform(np.log(df[\"Volume\"]).values.reshape(-1, 1))"
   ]
  },
  {
   "cell_type": "code",
   "execution_count": 16,
   "metadata": {},
   "outputs": [],
   "source": [
    "scaler = MinMaxScaler()\n",
    "scaler.fit(df_train[\"Stopa\"].values.reshape(-1, 1))\n",
    "df[\"Stopa\"] = scaler.transform(df[\"Stopa\"].values.reshape(-1, 1))"
   ]
  },
  {
   "cell_type": "code",
   "execution_count": 17,
   "metadata": {},
   "outputs": [],
   "source": [
    "BLOCK_SIZE = 16 "
   ]
  },
  {
   "cell_type": "code",
   "execution_count": 18,
   "metadata": {},
   "outputs": [],
   "source": [
    "df[\"target\"] = df[\"3_months\"].shift(-1)"
   ]
  },
  {
   "cell_type": "code",
   "execution_count": 19,
   "metadata": {},
   "outputs": [],
   "source": [
    "for i in range(1, BLOCK_SIZE):\n",
    "    df[f\"3_months_{i}\"] = df[\"3_months\"].shift(i)\n",
    "    df[f\"Close_{i}\"] = df[\"Close\"].shift(i)\n",
    "    df[f\"Volume_{i}\"] = df[\"Volume\"].shift(i)\n",
    "    df[f\"Stopa_{i}\"] = df[\"Stopa\"].shift(i)"
   ]
  },
  {
   "cell_type": "code",
   "execution_count": 20,
   "metadata": {},
   "outputs": [],
   "source": [
    "df.dropna(inplace=True)"
   ]
  },
  {
   "cell_type": "code",
   "execution_count": 21,
   "metadata": {},
   "outputs": [],
   "source": [
    "df_train = df.iloc[:n1, :]\n",
    "df_val = df.iloc[n1:n2, :]\n",
    "df_test = df.iloc[n2:, :]"
   ]
  },
  {
   "cell_type": "code",
   "execution_count": 22,
   "metadata": {},
   "outputs": [],
   "source": [
    "x_train = df_train.drop(columns=[\"target\"]).values.reshape(-1, BLOCK_SIZE, 4)\n",
    "y_train = df_train[\"target\"].values\n",
    "x_val = df_val.drop(columns=[\"target\"]).values.reshape(-1, BLOCK_SIZE, 4)\n",
    "y_val = df_val[\"target\"].values\n",
    "x_test = df_test.drop(columns=[\"target\"]).values.reshape(-1, BLOCK_SIZE, 4)\n",
    "y_test = df_test[\"target\"].values"
   ]
  },
  {
   "cell_type": "markdown",
   "metadata": {},
   "source": [
    "## Transformer Components"
   ]
  },
  {
   "cell_type": "code",
   "execution_count": 43,
   "metadata": {},
   "outputs": [],
   "source": [
    "class PositionalEmbedding(tf.keras.layers.Layer):\n",
    "    def __init__(self, d_model):\n",
    "        super().__init__()\n",
    "        self.lstm_embed = tf.keras.layers.LSTM(d_model, return_sequences=True)\n",
    "        self.pos_encoding = tf.keras.layers.Embedding(100, d_model)\n",
    "\n",
    "    def call(self, x):\n",
    "        x_pos = self.pos_encoding(x.shape[1])\n",
    "        x = self.lstm_embed(x)\n",
    "        x = x + x_pos\n",
    "        return x"
   ]
  },
  {
   "cell_type": "code",
   "execution_count": 44,
   "metadata": {},
   "outputs": [],
   "source": [
    "class BaseAttention(tf.keras.layers.Layer):\n",
    "    def __init__(self, **kwargs):\n",
    "        super().__init__()\n",
    "        self.mha = tf.keras.layers.MultiHeadAttention(**kwargs)\n",
    "        self.layernorm = tf.keras.layers.LayerNormalization()\n",
    "        self.add = tf.keras.layers.Add()"
   ]
  },
  {
   "cell_type": "code",
   "execution_count": 45,
   "metadata": {},
   "outputs": [],
   "source": [
    "class GlobalSelfAttention(BaseAttention):\n",
    "    def call(self, x):\n",
    "        attn_output = self.mha(\n",
    "            query=x,\n",
    "            value=x,\n",
    "            key=x)\n",
    "        x = self.add([x, attn_output])\n",
    "        x = self.layernorm(x)\n",
    "        return x"
   ]
  },
  {
   "cell_type": "code",
   "execution_count": 46,
   "metadata": {},
   "outputs": [],
   "source": [
    "class FeedForward(tf.keras.layers.Layer):\n",
    "    def __init__(self, d_model, dff, dropout_rate=0.1):\n",
    "        super().__init__()\n",
    "        self.seq = tf.keras.Sequential([\n",
    "            tf.keras.layers.Dense(dff, activation='relu'),\n",
    "            tf.keras.layers.Dense(d_model),\n",
    "            tf.keras.layers.Dropout(dropout_rate)\n",
    "        ])\n",
    "        self.add = tf.keras.layers.Add()\n",
    "        self.layer_norm = tf.keras.layers.LayerNormalization()\n",
    "\n",
    "    def call(self, x):\n",
    "        x = self.add([x, self.seq(x)])\n",
    "        x = self.layer_norm(x) \n",
    "        return x"
   ]
  },
  {
   "cell_type": "code",
   "execution_count": 47,
   "metadata": {},
   "outputs": [],
   "source": [
    "class DecoderBlock(tf.keras.layers.Layer):\n",
    "    def __init__(self,\n",
    "                d_model,\n",
    "                num_heads,\n",
    "                dff,\n",
    "                dropout_rate=0.1):\n",
    "        super(DecoderBlock, self).__init__()\n",
    "\n",
    "        self.causal_self_attention = GlobalSelfAttention(\n",
    "            num_heads=num_heads,\n",
    "            key_dim=d_model,\n",
    "            dropout=dropout_rate)\n",
    "\n",
    "        self.ffn = FeedForward(d_model, dff)\n",
    "\n",
    "    def call(self, x):\n",
    "        x = self.causal_self_attention(x=x)\n",
    "        x = self.ffn(x)  # Shape `(batch_size, seq_len, d_model)`.\n",
    "        return x"
   ]
  },
  {
   "cell_type": "code",
   "execution_count": 48,
   "metadata": {},
   "outputs": [],
   "source": [
    "class Decoder(tf.keras.layers.Layer):\n",
    "    def __init__(self, num_layers, d_model, num_heads, dff, dropout_rate=0.1):\n",
    "        super(Decoder, self).__init__()\n",
    "\n",
    "        self.d_model = d_model\n",
    "        self.num_layers = num_layers\n",
    "\n",
    "        self.pos_embedding = PositionalEmbedding(d_model=d_model)\n",
    "        self.dropout = tf.keras.layers.Dropout(dropout_rate)\n",
    "        self.dec_blocks = [\n",
    "            DecoderBlock(d_model=d_model, num_heads=num_heads,\n",
    "                        dff=dff, dropout_rate=dropout_rate)\n",
    "            for _ in range(num_layers)]\n",
    "\n",
    "    def call(self, x):\n",
    "        x = self.pos_embedding(x)  # (batch_size, target_seq_len, d_model)\n",
    "        x = self.dropout(x)\n",
    "        for block in self.dec_blocks:\n",
    "            x = block(x)\n",
    "        # The shape of x is (batch_size, target_seq_len, d_model).\n",
    "        return x"
   ]
  },
  {
   "cell_type": "code",
   "execution_count": 49,
   "metadata": {},
   "outputs": [],
   "source": [
    "class Transformer(tf.keras.Model):\n",
    "    def __init__(self, num_layers, d_model, num_heads,\n",
    "                dropout_rate=0.1):\n",
    "        super().__init__()\n",
    "        self.decoder = Decoder(num_layers=num_layers, d_model=d_model,\n",
    "                            num_heads=num_heads, dff=4*d_model,\n",
    "                            dropout_rate=dropout_rate)\n",
    "\n",
    "        self.final_layer = tf.keras.layers.Dense(1, activation=\"sigmoid\")\n",
    "\n",
    "    def call(self, inputs):\n",
    "        x = self.decoder(inputs) # (batch_size, target_len, d_model)\n",
    "        x = x[:, -1, :]\n",
    "        logits = self.final_layer(x)  # (batch_size, 1, target_vocab_size)\n",
    "        return logits"
   ]
  },
  {
   "cell_type": "code",
   "execution_count": 50,
   "metadata": {},
   "outputs": [],
   "source": [
    "model = Transformer(num_layers=4, d_model=128, num_heads=4)"
   ]
  },
  {
   "cell_type": "code",
   "execution_count": 51,
   "metadata": {},
   "outputs": [],
   "source": [
    "model.compile(optimizer=tf.keras.optimizers.Adam(learning_rate=0.0004),\n",
    "            loss=tf.keras.losses.MeanSquaredError(),\n",
    "            metrics=[\"mae\"])"
   ]
  },
  {
   "cell_type": "code",
   "execution_count": 52,
   "metadata": {},
   "outputs": [
    {
     "name": "stdout",
     "output_type": "stream",
     "text": [
      "Epoch 1/50\n"
     ]
    },
    {
     "name": "stderr",
     "output_type": "stream",
     "text": [
      "2023-11-19 05:03:47.724265: I tensorflow/compiler/xla/service/service.cc:168] XLA service 0x7fe2bc1850b0 initialized for platform CUDA (this does not guarantee that XLA will be used). Devices:\n",
      "2023-11-19 05:03:47.724331: I tensorflow/compiler/xla/service/service.cc:176]   StreamExecutor device (0): NVIDIA GeForce RTX 2060 with Max-Q Design, Compute Capability 7.5\n",
      "2023-11-19 05:03:47.731683: I tensorflow/compiler/mlir/tensorflow/utils/dump_mlir_util.cc:269] disabling MLIR crash reproducer, set env var `MLIR_CRASH_REPRODUCER_DIRECTORY` to enable.\n",
      "2023-11-19 05:03:47.856973: I ./tensorflow/compiler/jit/device_compiler.h:186] Compiled cluster using XLA!  This line is logged at most once for the lifetime of the process.\n"
     ]
    },
    {
     "name": "stdout",
     "output_type": "stream",
     "text": [
      "95/95 [==============================] - 24s 82ms/step - loss: 0.0420 - mae: 0.1243 - val_loss: 0.0062 - val_mae: 0.0737\n",
      "Epoch 2/50\n",
      "95/95 [==============================] - 6s 67ms/step - loss: 0.0014 - mae: 0.0280 - val_loss: 0.0079 - val_mae: 0.0829\n",
      "Epoch 3/50\n",
      "95/95 [==============================] - 6s 65ms/step - loss: 9.5160e-04 - mae: 0.0229 - val_loss: 0.0078 - val_mae: 0.0833\n",
      "Epoch 4/50\n",
      "95/95 [==============================] - 7s 69ms/step - loss: 6.6692e-04 - mae: 0.0195 - val_loss: 0.0059 - val_mae: 0.0722\n",
      "Epoch 5/50\n",
      "95/95 [==============================] - 7s 72ms/step - loss: 4.1659e-04 - mae: 0.0154 - val_loss: 0.0057 - val_mae: 0.0702\n",
      "Epoch 6/50\n",
      "95/95 [==============================] - 6s 67ms/step - loss: 3.6012e-04 - mae: 0.0143 - val_loss: 0.0073 - val_mae: 0.0811\n",
      "Epoch 7/50\n",
      "95/95 [==============================] - 6s 65ms/step - loss: 4.1286e-04 - mae: 0.0153 - val_loss: 0.0053 - val_mae: 0.0694\n",
      "Epoch 8/50\n",
      "95/95 [==============================] - 6s 63ms/step - loss: 4.9405e-04 - mae: 0.0163 - val_loss: 0.0056 - val_mae: 0.0694\n",
      "Epoch 9/50\n",
      "95/95 [==============================] - 6s 59ms/step - loss: 2.7744e-04 - mae: 0.0125 - val_loss: 0.0042 - val_mae: 0.0611\n",
      "Epoch 10/50\n",
      "95/95 [==============================] - 6s 59ms/step - loss: 3.4646e-04 - mae: 0.0136 - val_loss: 0.0056 - val_mae: 0.0700\n",
      "Epoch 11/50\n",
      "95/95 [==============================] - 6s 62ms/step - loss: 4.2280e-04 - mae: 0.0151 - val_loss: 0.0040 - val_mae: 0.0563\n",
      "Epoch 12/50\n",
      "95/95 [==============================] - 6s 62ms/step - loss: 3.7879e-04 - mae: 0.0143 - val_loss: 0.0025 - val_mae: 0.0446\n",
      "Epoch 13/50\n",
      "95/95 [==============================] - 6s 63ms/step - loss: 3.4770e-04 - mae: 0.0136 - val_loss: 0.0035 - val_mae: 0.0532\n",
      "Epoch 14/50\n",
      "95/95 [==============================] - 6s 62ms/step - loss: 2.8614e-04 - mae: 0.0123 - val_loss: 0.0040 - val_mae: 0.0508\n",
      "Epoch 15/50\n",
      "95/95 [==============================] - 6s 65ms/step - loss: 2.3904e-04 - mae: 0.0112 - val_loss: 0.0042 - val_mae: 0.0571\n",
      "Epoch 16/50\n",
      "95/95 [==============================] - 7s 68ms/step - loss: 3.2208e-04 - mae: 0.0130 - val_loss: 0.0030 - val_mae: 0.0468\n",
      "Epoch 17/50\n",
      "95/95 [==============================] - 6s 66ms/step - loss: 2.3748e-04 - mae: 0.0111 - val_loss: 0.0041 - val_mae: 0.0568\n",
      "Epoch 18/50\n",
      "95/95 [==============================] - 7s 69ms/step - loss: 2.9599e-04 - mae: 0.0124 - val_loss: 0.0071 - val_mae: 0.0779\n",
      "Epoch 19/50\n",
      "95/95 [==============================] - 7s 74ms/step - loss: 2.9851e-04 - mae: 0.0120 - val_loss: 0.0045 - val_mae: 0.0561\n",
      "Epoch 20/50\n",
      "95/95 [==============================] - 7s 70ms/step - loss: 4.9515e-04 - mae: 0.0153 - val_loss: 0.0058 - val_mae: 0.0699\n",
      "Epoch 21/50\n",
      "95/95 [==============================] - 7s 70ms/step - loss: 2.7364e-04 - mae: 0.0118 - val_loss: 0.0041 - val_mae: 0.0576\n",
      "Epoch 22/50\n",
      "95/95 [==============================] - 6s 60ms/step - loss: 3.1435e-04 - mae: 0.0127 - val_loss: 0.0038 - val_mae: 0.0527\n",
      "Epoch 23/50\n",
      "95/95 [==============================] - 6s 61ms/step - loss: 2.2601e-04 - mae: 0.0108 - val_loss: 0.0040 - val_mae: 0.0547\n",
      "Epoch 24/50\n",
      "95/95 [==============================] - 6s 62ms/step - loss: 1.8423e-04 - mae: 0.0099 - val_loss: 0.0042 - val_mae: 0.0566\n",
      "Epoch 25/50\n",
      "95/95 [==============================] - 6s 64ms/step - loss: 1.3199e-04 - mae: 0.0083 - val_loss: 0.0059 - val_mae: 0.0674\n",
      "Epoch 26/50\n",
      "95/95 [==============================] - 7s 70ms/step - loss: 1.4495e-04 - mae: 0.0085 - val_loss: 0.0027 - val_mae: 0.0419\n",
      "Epoch 27/50\n",
      "95/95 [==============================] - 7s 70ms/step - loss: 1.9546e-04 - mae: 0.0098 - val_loss: 0.0043 - val_mae: 0.0553\n",
      "Epoch 28/50\n",
      "95/95 [==============================] - 7s 71ms/step - loss: 1.5375e-04 - mae: 0.0087 - val_loss: 0.0031 - val_mae: 0.0474\n",
      "Epoch 29/50\n",
      "95/95 [==============================] - 7s 71ms/step - loss: 2.2006e-04 - mae: 0.0104 - val_loss: 0.0018 - val_mae: 0.0310\n",
      "Epoch 30/50\n",
      "95/95 [==============================] - 6s 64ms/step - loss: 2.3071e-04 - mae: 0.0105 - val_loss: 0.0035 - val_mae: 0.0459\n",
      "Epoch 31/50\n",
      "95/95 [==============================] - 6s 64ms/step - loss: 1.6389e-04 - mae: 0.0091 - val_loss: 0.0046 - val_mae: 0.0540\n",
      "Epoch 32/50\n",
      "95/95 [==============================] - 6s 63ms/step - loss: 1.8139e-04 - mae: 0.0096 - val_loss: 0.0058 - val_mae: 0.0611\n",
      "Epoch 33/50\n",
      "95/95 [==============================] - 6s 63ms/step - loss: 2.5896e-04 - mae: 0.0116 - val_loss: 0.0037 - val_mae: 0.0426\n",
      "Epoch 34/50\n",
      "95/95 [==============================] - 7s 70ms/step - loss: 1.8240e-04 - mae: 0.0092 - val_loss: 0.0066 - val_mae: 0.0716\n",
      "Epoch 35/50\n",
      "95/95 [==============================] - 7s 74ms/step - loss: 2.0618e-04 - mae: 0.0102 - val_loss: 0.0057 - val_mae: 0.0622\n",
      "Epoch 36/50\n",
      "95/95 [==============================] - 6s 65ms/step - loss: 1.5568e-04 - mae: 0.0089 - val_loss: 0.0052 - val_mae: 0.0608\n",
      "Epoch 37/50\n",
      "95/95 [==============================] - 6s 61ms/step - loss: 1.2674e-04 - mae: 0.0082 - val_loss: 0.0059 - val_mae: 0.0657\n",
      "Epoch 38/50\n",
      "95/95 [==============================] - 6s 63ms/step - loss: 1.5696e-04 - mae: 0.0090 - val_loss: 0.0035 - val_mae: 0.0454\n",
      "Epoch 39/50\n",
      "95/95 [==============================] - 6s 62ms/step - loss: 2.1257e-04 - mae: 0.0101 - val_loss: 0.0060 - val_mae: 0.0593\n",
      "Epoch 40/50\n",
      "95/95 [==============================] - 6s 63ms/step - loss: 2.0020e-04 - mae: 0.0103 - val_loss: 0.0106 - val_mae: 0.0875\n",
      "Epoch 41/50\n",
      "95/95 [==============================] - 6s 63ms/step - loss: 2.1074e-04 - mae: 0.0101 - val_loss: 0.0066 - val_mae: 0.0660\n",
      "Epoch 42/50\n",
      "95/95 [==============================] - 6s 62ms/step - loss: 1.7731e-04 - mae: 0.0092 - val_loss: 0.0141 - val_mae: 0.1101\n",
      "Epoch 43/50\n",
      "95/95 [==============================] - 6s 63ms/step - loss: 1.8819e-04 - mae: 0.0097 - val_loss: 0.0093 - val_mae: 0.0837\n",
      "Epoch 44/50\n",
      "95/95 [==============================] - 6s 64ms/step - loss: 2.7060e-04 - mae: 0.0112 - val_loss: 0.0076 - val_mae: 0.0690\n",
      "Epoch 45/50\n",
      "95/95 [==============================] - 6s 65ms/step - loss: 1.3048e-04 - mae: 0.0081 - val_loss: 0.0035 - val_mae: 0.0462\n",
      "Epoch 46/50\n",
      "95/95 [==============================] - 7s 73ms/step - loss: 1.6660e-04 - mae: 0.0093 - val_loss: 0.0058 - val_mae: 0.0584\n",
      "Epoch 47/50\n",
      "95/95 [==============================] - 7s 71ms/step - loss: 1.8744e-04 - mae: 0.0093 - val_loss: 0.0099 - val_mae: 0.0781\n",
      "Epoch 48/50\n",
      "95/95 [==============================] - 7s 70ms/step - loss: 1.1858e-04 - mae: 0.0078 - val_loss: 0.0114 - val_mae: 0.0974\n",
      "Epoch 49/50\n",
      "95/95 [==============================] - 7s 69ms/step - loss: 2.7443e-04 - mae: 0.0113 - val_loss: 0.0094 - val_mae: 0.0829\n",
      "Epoch 50/50\n",
      "95/95 [==============================] - 7s 70ms/step - loss: 1.3621e-04 - mae: 0.0081 - val_loss: 0.0071 - val_mae: 0.0665\n"
     ]
    }
   ],
   "source": [
    "# training\n",
    "history = model.fit(x_train, y_train, epochs=50, batch_size=32, validation_data=(x_val, y_val))"
   ]
  },
  {
   "cell_type": "code",
   "execution_count": 54,
   "metadata": {},
   "outputs": [
    {
     "data": {
      "image/png": "[encoded data removed]",
      "text/plain": [
       "<Figure size 640x480 with 1 Axes>"
      ]
     },
     "metadata": {},
     "output_type": "display_data"
    }
   ],
   "source": [
    "plt.plot(history.history[\"loss\"], label=\"train_loss\")\n",
    "plt.plot(history.history[\"val_loss\"], label=\"val_loss\")\n",
    "plt.xlabel(\"Epoch\")\n",
    "plt.ylabel(\"Loss\")\n",
    "plt.legend()\n",
    "plt.show()"
   ]
  },
  {
   "cell_type": "code",
   "execution_count": 55,
   "metadata": {},
   "outputs": [
    {
     "data": {
      "image/png": "[encoded data removed]",
      "text/plain": [
       "<Figure size 640x480 with 1 Axes>"
      ]
     },
     "metadata": {},
     "output_type": "display_data"
    }
   ],
   "source": [
    "plt.plot(history.history[\"mae\"], label=\"train_mae\")\n",
    "plt.plot(history.history[\"val_mae\"], label=\"val_mae\")\n",
    "plt.xlabel(\"Epoch\")\n",
    "plt.ylabel(\"MAE\")\n",
    "plt.legend()\n",
    "plt.show()"
   ]
  }
 ],
 "metadata": {
  "kernelspec": {
   "display_name": "base",
   "language": "python",
   "name": "python3"
  },
  "language_info": {
   "codemirror_mode": {
    "name": "ipython",
    "version": 3
   },
   "file_extension": ".py",
   "mimetype": "text/x-python",
   "name": "python",
   "nbconvert_exporter": "python",
   "pygments_lexer": "ipython3",
   "version": "3.10.12"
  }
 },
 "nbformat": 4,
 "nbformat_minor": 2
}
