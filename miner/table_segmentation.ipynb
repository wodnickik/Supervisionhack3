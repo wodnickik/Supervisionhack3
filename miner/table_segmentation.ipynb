{
 "cells": [
  {
   "cell_type": "code",
   "execution_count": 1,
   "metadata": {},
   "outputs": [],
   "source": [
    "import os\n",
    "import tqdm\n",
    "from PIL import ImageEnhance\n",
    "from tempfile import TemporaryDirectory\n",
    "from pdf2image import convert_from_path\n",
    "from img2pdf import convert\n",
    "from typing import List\n",
    "from img2table.document import PDF\n",
    "from img2table.ocr import TesseractOCR"
   ]
  },
  {
   "cell_type": "code",
   "execution_count": 2,
   "metadata": {},
   "outputs": [],
   "source": [
    "def change_pdf_colors_for_ocr(pdf_input_path: str, pdf_output_file: str) -> None:\n",
    "    \"\"\"\n",
    "    Changes colors of the PDF file to black and white for better OCR results.\n",
    "    :param pdf_input_path: path to the input PDF file\n",
    "    :param pdf_output_file: path to the output PDF file\n",
    "    :return: None\n",
    "    \"\"\"\n",
    "    images = convert_from_path(pdf_input_path)\n",
    "\n",
    "    for i in range(len(images)):\n",
    "        img_tmp = images[i].convert(\"L\")\n",
    "        enhancer_con = ImageEnhance.Contrast(img_tmp)\n",
    "        img_tmp = enhancer_con.enhance(3)\n",
    "        enhancer_bri = ImageEnhance.Brightness(img_tmp)\n",
    "        images[i] = enhancer_bri.enhance(2.5)\n",
    "\n",
    "    with TemporaryDirectory() as temp_dir:\n",
    "        image_list = list()\n",
    "        \n",
    "        for page_number in range(1, len(images) + 1):\n",
    "            path = os.path.join(temp_dir, \"page_\" + str(page_number) + \".jpeg\")\n",
    "            image_list.append(path)\n",
    "            images[page_number-1].save(path, \"JPEG\") # (page_number - 1) because index starts from 0\n",
    "\n",
    "        with open(pdf_output_file, \"bw\") as gray_pdf:\n",
    "            gray_pdf.write(convert(image_list))"
   ]
  },
  {
   "cell_type": "code",
   "execution_count": 5,
   "metadata": {},
   "outputs": [],
   "source": [
    "banks = [\"alior_bank\", \"city\", \"mBank\", \"milenium\", \"PKO\"]"
   ]
  },
  {
   "cell_type": "code",
   "execution_count": 4,
   "metadata": {},
   "outputs": [],
   "source": [
    "def extract_tables(banks: List[str]) -> None:\n",
    "    \"\"\"\n",
    "    Extracts tables from PDF files and saves them as XLSX files.\n",
    "    :param banks: list of banks\n",
    "    :return: None\n",
    "    \"\"\"\n",
    "    ocr = TesseractOCR(lang=\"pol\")\n",
    "    for bank in tqdm.tqdm(banks):\n",
    "        for file in os.listdir(f\"../data/{bank}/\"):\n",
    "            if file.endswith(\".pdf\") and not file.startswith(\"bw\"):\n",
    "                change_pdf_colors_for_ocr(f'../data/{bank}/{file}', f'../data/{bank}/bw_{file}')\n",
    "                pdf = PDF(src=f'../data/{bank}/bw_{file}')\n",
    "                pdf.to_xlsx(f'../data/tables/{file[:-4]}.xlsx', ocr=ocr)"
   ]
  },
  {
   "cell_type": "code",
   "execution_count": null,
   "metadata": {},
   "outputs": [],
   "source": [
    "extract_tables(banks)"
   ]
  },
  {
   "cell_type": "code",
   "execution_count": null,
   "metadata": {},
   "outputs": [],
   "source": []
  },
  {
   "cell_type": "code",
   "execution_count": null,
   "metadata": {},
   "outputs": [],
   "source": []
  },
  {
   "cell_type": "code",
   "execution_count": null,
   "metadata": {},
   "outputs": [],
   "source": []
  }
 ],
 "metadata": {
  "kernelspec": {
   "display_name": "base",
   "language": "python",
   "name": "python3"
  },
  "language_info": {
   "codemirror_mode": {
    "name": "ipython",
    "version": 3
   },
   "file_extension": ".py",
   "mimetype": "text/x-python",
   "name": "python",
   "nbconvert_exporter": "python",
   "pygments_lexer": "ipython3",
   "version": "3.10.12"
  }
 },
 "nbformat": 4,
 "nbformat_minor": 2
}
