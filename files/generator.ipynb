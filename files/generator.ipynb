{
 "cells": [
  {
   "cell_type": "code",
   "execution_count": 158,
   "id": "initial_id",
   "metadata": {
    "collapsed": true,
    "ExecuteTime": {
     "end_time": "2023-11-19T01:16:12.164139429Z",
     "start_time": "2023-11-19T01:16:12.120341298Z"
    }
   },
   "outputs": [],
   "source": [
    "import pandas as pd\n",
    "import numpy as np\n",
    "from sklearn import tree\n",
    "\n",
    "import datetime\n",
    "import random"
   ]
  },
  {
   "cell_type": "code",
   "execution_count": 162,
   "outputs": [],
   "source": [
    "df = pd.read_excel('dane.xlsx')\n",
    "df_new = df.copy()\n",
    "\n",
    "df[['Typ oferty']] = np.where(df[['Typ oferty']] == 'Lokata', 1, 0)\n",
    "df[['Typ klienta']] = np.where(df[['Typ klienta']] == 'Indywidualny', 1, 0)\n",
    "df[['Waluta']] = np.where(df[['Waluta']] == 'PLN', 1, 0)\n",
    "X = df[['Typ oferty', 'Długość (miesiące)', 'Typ klienta', 'Waluta']]"
   ],
   "metadata": {
    "collapsed": false,
    "ExecuteTime": {
     "end_time": "2023-11-19T01:30:34.353493145Z",
     "start_time": "2023-11-19T01:30:34.260442341Z"
    }
   },
   "id": "38842d87348927f8"
  },
  {
   "cell_type": "code",
   "execution_count": 82,
   "outputs": [
    {
     "data": {
      "text/plain": "DecisionTreeRegressor()",
      "text/html": "<style>#sk-container-id-8 {color: black;}#sk-container-id-8 pre{padding: 0;}#sk-container-id-8 div.sk-toggleable {background-color: white;}#sk-container-id-8 label.sk-toggleable__label {cursor: pointer;display: block;width: 100%;margin-bottom: 0;padding: 0.3em;box-sizing: border-box;text-align: center;}#sk-container-id-8 label.sk-toggleable__label-arrow:before {content: \"▸\";float: left;margin-right: 0.25em;color: #696969;}#sk-container-id-8 label.sk-toggleable__label-arrow:hover:before {color: black;}#sk-container-id-8 div.sk-estimator:hover label.sk-toggleable__label-arrow:before {color: black;}#sk-container-id-8 div.sk-toggleable__content {max-height: 0;max-width: 0;overflow: hidden;text-align: left;background-color: #f0f8ff;}#sk-container-id-8 div.sk-toggleable__content pre {margin: 0.2em;color: black;border-radius: 0.25em;background-color: #f0f8ff;}#sk-container-id-8 input.sk-toggleable__control:checked~div.sk-toggleable__content {max-height: 200px;max-width: 100%;overflow: auto;}#sk-container-id-8 input.sk-toggleable__control:checked~label.sk-toggleable__label-arrow:before {content: \"▾\";}#sk-container-id-8 div.sk-estimator input.sk-toggleable__control:checked~label.sk-toggleable__label {background-color: #d4ebff;}#sk-container-id-8 div.sk-label input.sk-toggleable__control:checked~label.sk-toggleable__label {background-color: #d4ebff;}#sk-container-id-8 input.sk-hidden--visually {border: 0;clip: rect(1px 1px 1px 1px);clip: rect(1px, 1px, 1px, 1px);height: 1px;margin: -1px;overflow: hidden;padding: 0;position: absolute;width: 1px;}#sk-container-id-8 div.sk-estimator {font-family: monospace;background-color: #f0f8ff;border: 1px dotted black;border-radius: 0.25em;box-sizing: border-box;margin-bottom: 0.5em;}#sk-container-id-8 div.sk-estimator:hover {background-color: #d4ebff;}#sk-container-id-8 div.sk-parallel-item::after {content: \"\";width: 100%;border-bottom: 1px solid gray;flex-grow: 1;}#sk-container-id-8 div.sk-label:hover label.sk-toggleable__label {background-color: #d4ebff;}#sk-container-id-8 div.sk-serial::before {content: \"\";position: absolute;border-left: 1px solid gray;box-sizing: border-box;top: 0;bottom: 0;left: 50%;z-index: 0;}#sk-container-id-8 div.sk-serial {display: flex;flex-direction: column;align-items: center;background-color: white;padding-right: 0.2em;padding-left: 0.2em;position: relative;}#sk-container-id-8 div.sk-item {position: relative;z-index: 1;}#sk-container-id-8 div.sk-parallel {display: flex;align-items: stretch;justify-content: center;background-color: white;position: relative;}#sk-container-id-8 div.sk-item::before, #sk-container-id-8 div.sk-parallel-item::before {content: \"\";position: absolute;border-left: 1px solid gray;box-sizing: border-box;top: 0;bottom: 0;left: 50%;z-index: -1;}#sk-container-id-8 div.sk-parallel-item {display: flex;flex-direction: column;z-index: 1;position: relative;background-color: white;}#sk-container-id-8 div.sk-parallel-item:first-child::after {align-self: flex-end;width: 50%;}#sk-container-id-8 div.sk-parallel-item:last-child::after {align-self: flex-start;width: 50%;}#sk-container-id-8 div.sk-parallel-item:only-child::after {width: 0;}#sk-container-id-8 div.sk-dashed-wrapped {border: 1px dashed gray;margin: 0 0.4em 0.5em 0.4em;box-sizing: border-box;padding-bottom: 0.4em;background-color: white;}#sk-container-id-8 div.sk-label label {font-family: monospace;font-weight: bold;display: inline-block;line-height: 1.2em;}#sk-container-id-8 div.sk-label-container {text-align: center;}#sk-container-id-8 div.sk-container {/* jupyter's `normalize.less` sets `[hidden] { display: none; }` but bootstrap.min.css set `[hidden] { display: none !important; }` so we also need the `!important` here to be able to override the default hidden behavior on the sphinx rendered scikit-learn.org. See: https://github.com/scikit-learn/scikit-learn/issues/21755 */display: inline-block !important;position: relative;}#sk-container-id-8 div.sk-text-repr-fallback {display: none;}</style><div id=\"sk-container-id-8\" class=\"sk-top-container\"><div class=\"sk-text-repr-fallback\"><pre>DecisionTreeRegressor()</pre><b>In a Jupyter environment, please rerun this cell to show the HTML representation or trust the notebook. <br />On GitHub, the HTML representation is unable to render, please try loading this page with nbviewer.org.</b></div><div class=\"sk-container\" hidden><div class=\"sk-item\"><div class=\"sk-estimator sk-toggleable\"><input class=\"sk-toggleable__control sk-hidden--visually\" id=\"sk-estimator-id-8\" type=\"checkbox\" checked><label for=\"sk-estimator-id-8\" class=\"sk-toggleable__label sk-toggleable__label-arrow\">DecisionTreeRegressor</label><div class=\"sk-toggleable__content\"><pre>DecisionTreeRegressor()</pre></div></div></div></div></div>"
     },
     "execution_count": 82,
     "metadata": {},
     "output_type": "execute_result"
    }
   ],
   "source": [
    "y = df[['Oprocentowanie']]\n",
    "clf_opr = tree.DecisionTreeRegressor()\n",
    "clf_opr.fit(X, y)"
   ],
   "metadata": {
    "collapsed": false,
    "ExecuteTime": {
     "end_time": "2023-11-19T00:53:59.252612246Z",
     "start_time": "2023-11-19T00:53:59.211487947Z"
    }
   },
   "id": "7a44eccc2d5e49b3"
  },
  {
   "cell_type": "code",
   "execution_count": 80,
   "outputs": [
    {
     "data": {
      "text/plain": "DecisionTreeRegressor()",
      "text/html": "<style>#sk-container-id-6 {color: black;}#sk-container-id-6 pre{padding: 0;}#sk-container-id-6 div.sk-toggleable {background-color: white;}#sk-container-id-6 label.sk-toggleable__label {cursor: pointer;display: block;width: 100%;margin-bottom: 0;padding: 0.3em;box-sizing: border-box;text-align: center;}#sk-container-id-6 label.sk-toggleable__label-arrow:before {content: \"▸\";float: left;margin-right: 0.25em;color: #696969;}#sk-container-id-6 label.sk-toggleable__label-arrow:hover:before {color: black;}#sk-container-id-6 div.sk-estimator:hover label.sk-toggleable__label-arrow:before {color: black;}#sk-container-id-6 div.sk-toggleable__content {max-height: 0;max-width: 0;overflow: hidden;text-align: left;background-color: #f0f8ff;}#sk-container-id-6 div.sk-toggleable__content pre {margin: 0.2em;color: black;border-radius: 0.25em;background-color: #f0f8ff;}#sk-container-id-6 input.sk-toggleable__control:checked~div.sk-toggleable__content {max-height: 200px;max-width: 100%;overflow: auto;}#sk-container-id-6 input.sk-toggleable__control:checked~label.sk-toggleable__label-arrow:before {content: \"▾\";}#sk-container-id-6 div.sk-estimator input.sk-toggleable__control:checked~label.sk-toggleable__label {background-color: #d4ebff;}#sk-container-id-6 div.sk-label input.sk-toggleable__control:checked~label.sk-toggleable__label {background-color: #d4ebff;}#sk-container-id-6 input.sk-hidden--visually {border: 0;clip: rect(1px 1px 1px 1px);clip: rect(1px, 1px, 1px, 1px);height: 1px;margin: -1px;overflow: hidden;padding: 0;position: absolute;width: 1px;}#sk-container-id-6 div.sk-estimator {font-family: monospace;background-color: #f0f8ff;border: 1px dotted black;border-radius: 0.25em;box-sizing: border-box;margin-bottom: 0.5em;}#sk-container-id-6 div.sk-estimator:hover {background-color: #d4ebff;}#sk-container-id-6 div.sk-parallel-item::after {content: \"\";width: 100%;border-bottom: 1px solid gray;flex-grow: 1;}#sk-container-id-6 div.sk-label:hover label.sk-toggleable__label {background-color: #d4ebff;}#sk-container-id-6 div.sk-serial::before {content: \"\";position: absolute;border-left: 1px solid gray;box-sizing: border-box;top: 0;bottom: 0;left: 50%;z-index: 0;}#sk-container-id-6 div.sk-serial {display: flex;flex-direction: column;align-items: center;background-color: white;padding-right: 0.2em;padding-left: 0.2em;position: relative;}#sk-container-id-6 div.sk-item {position: relative;z-index: 1;}#sk-container-id-6 div.sk-parallel {display: flex;align-items: stretch;justify-content: center;background-color: white;position: relative;}#sk-container-id-6 div.sk-item::before, #sk-container-id-6 div.sk-parallel-item::before {content: \"\";position: absolute;border-left: 1px solid gray;box-sizing: border-box;top: 0;bottom: 0;left: 50%;z-index: -1;}#sk-container-id-6 div.sk-parallel-item {display: flex;flex-direction: column;z-index: 1;position: relative;background-color: white;}#sk-container-id-6 div.sk-parallel-item:first-child::after {align-self: flex-end;width: 50%;}#sk-container-id-6 div.sk-parallel-item:last-child::after {align-self: flex-start;width: 50%;}#sk-container-id-6 div.sk-parallel-item:only-child::after {width: 0;}#sk-container-id-6 div.sk-dashed-wrapped {border: 1px dashed gray;margin: 0 0.4em 0.5em 0.4em;box-sizing: border-box;padding-bottom: 0.4em;background-color: white;}#sk-container-id-6 div.sk-label label {font-family: monospace;font-weight: bold;display: inline-block;line-height: 1.2em;}#sk-container-id-6 div.sk-label-container {text-align: center;}#sk-container-id-6 div.sk-container {/* jupyter's `normalize.less` sets `[hidden] { display: none; }` but bootstrap.min.css set `[hidden] { display: none !important; }` so we also need the `!important` here to be able to override the default hidden behavior on the sphinx rendered scikit-learn.org. See: https://github.com/scikit-learn/scikit-learn/issues/21755 */display: inline-block !important;position: relative;}#sk-container-id-6 div.sk-text-repr-fallback {display: none;}</style><div id=\"sk-container-id-6\" class=\"sk-top-container\"><div class=\"sk-text-repr-fallback\"><pre>DecisionTreeRegressor()</pre><b>In a Jupyter environment, please rerun this cell to show the HTML representation or trust the notebook. <br />On GitHub, the HTML representation is unable to render, please try loading this page with nbviewer.org.</b></div><div class=\"sk-container\" hidden><div class=\"sk-item\"><div class=\"sk-estimator sk-toggleable\"><input class=\"sk-toggleable__control sk-hidden--visually\" id=\"sk-estimator-id-6\" type=\"checkbox\" checked><label for=\"sk-estimator-id-6\" class=\"sk-toggleable__label sk-toggleable__label-arrow\">DecisionTreeRegressor</label><div class=\"sk-toggleable__content\"><pre>DecisionTreeRegressor()</pre></div></div></div></div></div>"
     },
     "execution_count": 80,
     "metadata": {},
     "output_type": "execute_result"
    }
   ],
   "source": [
    "tmp = df[~df['Maksymalne środki'].isna()]\n",
    "y = tmp[['Maksymalne środki']]\n",
    "clf_max = tree.DecisionTreeRegressor()\n",
    "clf_max.fit(tmp[['Typ oferty', 'Długość (miesiące)', 'Typ klienta', 'Waluta']], y)"
   ],
   "metadata": {
    "collapsed": false,
    "ExecuteTime": {
     "end_time": "2023-11-19T00:53:14.896403087Z",
     "start_time": "2023-11-19T00:53:14.855968016Z"
    }
   },
   "id": "fe7bea23b719f620"
  },
  {
   "cell_type": "code",
   "execution_count": 81,
   "outputs": [
    {
     "data": {
      "text/plain": "DecisionTreeRegressor()",
      "text/html": "<style>#sk-container-id-7 {color: black;}#sk-container-id-7 pre{padding: 0;}#sk-container-id-7 div.sk-toggleable {background-color: white;}#sk-container-id-7 label.sk-toggleable__label {cursor: pointer;display: block;width: 100%;margin-bottom: 0;padding: 0.3em;box-sizing: border-box;text-align: center;}#sk-container-id-7 label.sk-toggleable__label-arrow:before {content: \"▸\";float: left;margin-right: 0.25em;color: #696969;}#sk-container-id-7 label.sk-toggleable__label-arrow:hover:before {color: black;}#sk-container-id-7 div.sk-estimator:hover label.sk-toggleable__label-arrow:before {color: black;}#sk-container-id-7 div.sk-toggleable__content {max-height: 0;max-width: 0;overflow: hidden;text-align: left;background-color: #f0f8ff;}#sk-container-id-7 div.sk-toggleable__content pre {margin: 0.2em;color: black;border-radius: 0.25em;background-color: #f0f8ff;}#sk-container-id-7 input.sk-toggleable__control:checked~div.sk-toggleable__content {max-height: 200px;max-width: 100%;overflow: auto;}#sk-container-id-7 input.sk-toggleable__control:checked~label.sk-toggleable__label-arrow:before {content: \"▾\";}#sk-container-id-7 div.sk-estimator input.sk-toggleable__control:checked~label.sk-toggleable__label {background-color: #d4ebff;}#sk-container-id-7 div.sk-label input.sk-toggleable__control:checked~label.sk-toggleable__label {background-color: #d4ebff;}#sk-container-id-7 input.sk-hidden--visually {border: 0;clip: rect(1px 1px 1px 1px);clip: rect(1px, 1px, 1px, 1px);height: 1px;margin: -1px;overflow: hidden;padding: 0;position: absolute;width: 1px;}#sk-container-id-7 div.sk-estimator {font-family: monospace;background-color: #f0f8ff;border: 1px dotted black;border-radius: 0.25em;box-sizing: border-box;margin-bottom: 0.5em;}#sk-container-id-7 div.sk-estimator:hover {background-color: #d4ebff;}#sk-container-id-7 div.sk-parallel-item::after {content: \"\";width: 100%;border-bottom: 1px solid gray;flex-grow: 1;}#sk-container-id-7 div.sk-label:hover label.sk-toggleable__label {background-color: #d4ebff;}#sk-container-id-7 div.sk-serial::before {content: \"\";position: absolute;border-left: 1px solid gray;box-sizing: border-box;top: 0;bottom: 0;left: 50%;z-index: 0;}#sk-container-id-7 div.sk-serial {display: flex;flex-direction: column;align-items: center;background-color: white;padding-right: 0.2em;padding-left: 0.2em;position: relative;}#sk-container-id-7 div.sk-item {position: relative;z-index: 1;}#sk-container-id-7 div.sk-parallel {display: flex;align-items: stretch;justify-content: center;background-color: white;position: relative;}#sk-container-id-7 div.sk-item::before, #sk-container-id-7 div.sk-parallel-item::before {content: \"\";position: absolute;border-left: 1px solid gray;box-sizing: border-box;top: 0;bottom: 0;left: 50%;z-index: -1;}#sk-container-id-7 div.sk-parallel-item {display: flex;flex-direction: column;z-index: 1;position: relative;background-color: white;}#sk-container-id-7 div.sk-parallel-item:first-child::after {align-self: flex-end;width: 50%;}#sk-container-id-7 div.sk-parallel-item:last-child::after {align-self: flex-start;width: 50%;}#sk-container-id-7 div.sk-parallel-item:only-child::after {width: 0;}#sk-container-id-7 div.sk-dashed-wrapped {border: 1px dashed gray;margin: 0 0.4em 0.5em 0.4em;box-sizing: border-box;padding-bottom: 0.4em;background-color: white;}#sk-container-id-7 div.sk-label label {font-family: monospace;font-weight: bold;display: inline-block;line-height: 1.2em;}#sk-container-id-7 div.sk-label-container {text-align: center;}#sk-container-id-7 div.sk-container {/* jupyter's `normalize.less` sets `[hidden] { display: none; }` but bootstrap.min.css set `[hidden] { display: none !important; }` so we also need the `!important` here to be able to override the default hidden behavior on the sphinx rendered scikit-learn.org. See: https://github.com/scikit-learn/scikit-learn/issues/21755 */display: inline-block !important;position: relative;}#sk-container-id-7 div.sk-text-repr-fallback {display: none;}</style><div id=\"sk-container-id-7\" class=\"sk-top-container\"><div class=\"sk-text-repr-fallback\"><pre>DecisionTreeRegressor()</pre><b>In a Jupyter environment, please rerun this cell to show the HTML representation or trust the notebook. <br />On GitHub, the HTML representation is unable to render, please try loading this page with nbviewer.org.</b></div><div class=\"sk-container\" hidden><div class=\"sk-item\"><div class=\"sk-estimator sk-toggleable\"><input class=\"sk-toggleable__control sk-hidden--visually\" id=\"sk-estimator-id-7\" type=\"checkbox\" checked><label for=\"sk-estimator-id-7\" class=\"sk-toggleable__label sk-toggleable__label-arrow\">DecisionTreeRegressor</label><div class=\"sk-toggleable__content\"><pre>DecisionTreeRegressor()</pre></div></div></div></div></div>"
     },
     "execution_count": 81,
     "metadata": {},
     "output_type": "execute_result"
    }
   ],
   "source": [
    "y = df[['Minimalne środki']].fillna(0)\n",
    "clf_min = tree.DecisionTreeRegressor()\n",
    "clf_min.fit(X, y)"
   ],
   "metadata": {
    "collapsed": false,
    "ExecuteTime": {
     "end_time": "2023-11-19T00:53:17.318110202Z",
     "start_time": "2023-11-19T00:53:17.302170682Z"
    }
   },
   "id": "e617ae89d046bf6b"
  },
  {
   "cell_type": "code",
   "execution_count": 37,
   "outputs": [],
   "source": [
    "name_components = [\n",
    "    ['Random', 'Super', 'Gold', 'Awesome'],\n",
    "    ['Bank'],\n",
    "    ['Polski', 'Inny', '']\n",
    "]\n",
    "def generate_name():\n",
    "    name = ''\n",
    "    for l in name_components:\n",
    "        name += (random.choice(l)) + ' '\n",
    "    return name\n",
    "\n",
    "\n",
    "intervals = [\n",
    "    [0.25, 1, 3, 6],\n",
    "    [3, 6, 12, 24],\n",
    "    [6, 12, 18],\n",
    "    [1, 3, 4, 6, 12, 18, 24]\n",
    "]\n",
    "single_interval = [0.25, 1, 3, 4, 6, 9, 12, np.NaN]\n",
    "\n",
    "types = ['Lokata', \"Konto oszczędnościowe\"]\n",
    "client = ['Indywidualny', 'Biznesowy']\n",
    "offer_type = ['', 'Nowi klienci', 'Starzy klienci', 'Nowe środki']\n",
    "currency = ['PLN', 'EUR', 'USD', 'GBP']"
   ],
   "metadata": {
    "collapsed": false,
    "ExecuteTime": {
     "end_time": "2023-11-19T00:10:47.436897401Z",
     "start_time": "2023-11-19T00:10:47.427148509Z"
    }
   },
   "id": "7581907411ac0fd2"
  },
  {
   "cell_type": "code",
   "execution_count": 172,
   "outputs": [],
   "source": [
    "def gen_row(n, d, t, i):\n",
    "    k = 0 if random.random() > 0.8 else 1\n",
    "    w = 0 if random.random() > 0.754 else 1\n",
    "    \n",
    "    opr = np.round(np.clip(clf_opr.predict(np.array([t, i, k, w]).reshape((1, -1)))[0] + np.random.normal(0, 0.0007), 0.0001, 0.1), 4)\n",
    "    \n",
    "    mi = np.round(np.clip(clf_min.predict(np.array([t, i, k, w]).reshape((1, -1)))[0] + np.random.normal(-2000, 1000), 0, 10000000), -2)\n",
    "    \n",
    "    ma = np.NaN if random.random() > 0.823 else np.round(np.clip(clf_max.predict(np.array([t, i, k, w]).reshape((1, -1)))[0] + np.random.normal(0, 10000), 0, 10000000), -2)\n",
    "    \n",
    "    r = random.choices(offer_type,\n",
    "                       [50, 1, 1, 1], k=1)[0]\n",
    "    \n",
    "    w = 'PLN' if w else random.choice(['EUR', 'GBP', 'USD'])\n",
    "    \n",
    "    row = pd.DataFrame({\n",
    "        'Bank': [n],\n",
    "        'Nazwa oferty': ['Lokata'] if t else ['Konto oszczędnościowe'],\n",
    "        'Oprocentowanie': [opr],\n",
    "        'Typ oferty': ['Lokata'] if t else ['Konto oszczędnościowe'],\n",
    "        'Długość (miesiące)': [i],\n",
    "        'Typ klienta': ['Indywidualny'] if k else ['Biznesowy'],\n",
    "        'Rodzaj oferty': [r],\n",
    "        'Minimalne środki': [mi],\n",
    "        'Maksymalne środki': [ma],\n",
    "        'Waluta': [w],\n",
    "        'Uwagi': [''],\n",
    "        'Ważne od': [d]\n",
    "    })\n",
    "    \n",
    "    return row"
   ],
   "metadata": {
    "collapsed": false,
    "ExecuteTime": {
     "end_time": "2023-11-19T01:34:54.652393453Z",
     "start_time": "2023-11-19T01:34:54.642184762Z"
    }
   },
   "id": "8d767354ef3ada91"
  },
  {
   "cell_type": "code",
   "execution_count": 176,
   "outputs": [
    {
     "name": "stderr",
     "output_type": "stream",
     "text": [
      "/home/krzysztof/Projekty/Supervisionhack3/venv/lib/python3.10/site-packages/sklearn/base.py:465: UserWarning: X does not have valid feature names, but DecisionTreeRegressor was fitted with feature names\n",
      "  warnings.warn(\n",
      "/home/krzysztof/Projekty/Supervisionhack3/venv/lib/python3.10/site-packages/sklearn/base.py:465: UserWarning: X does not have valid feature names, but DecisionTreeRegressor was fitted with feature names\n",
      "  warnings.warn(\n",
      "/home/krzysztof/Projekty/Supervisionhack3/venv/lib/python3.10/site-packages/sklearn/base.py:465: UserWarning: X does not have valid feature names, but DecisionTreeRegressor was fitted with feature names\n",
      "  warnings.warn(\n",
      "/home/krzysztof/Projekty/Supervisionhack3/venv/lib/python3.10/site-packages/sklearn/base.py:465: UserWarning: X does not have valid feature names, but DecisionTreeRegressor was fitted with feature names\n",
      "  warnings.warn(\n",
      "/home/krzysztof/Projekty/Supervisionhack3/venv/lib/python3.10/site-packages/sklearn/base.py:465: UserWarning: X does not have valid feature names, but DecisionTreeRegressor was fitted with feature names\n",
      "  warnings.warn(\n",
      "/home/krzysztof/Projekty/Supervisionhack3/venv/lib/python3.10/site-packages/sklearn/base.py:465: UserWarning: X does not have valid feature names, but DecisionTreeRegressor was fitted with feature names\n",
      "  warnings.warn(\n",
      "/home/krzysztof/Projekty/Supervisionhack3/venv/lib/python3.10/site-packages/sklearn/base.py:465: UserWarning: X does not have valid feature names, but DecisionTreeRegressor was fitted with feature names\n",
      "  warnings.warn(\n",
      "/home/krzysztof/Projekty/Supervisionhack3/venv/lib/python3.10/site-packages/sklearn/base.py:465: UserWarning: X does not have valid feature names, but DecisionTreeRegressor was fitted with feature names\n",
      "  warnings.warn(\n",
      "/home/krzysztof/Projekty/Supervisionhack3/venv/lib/python3.10/site-packages/sklearn/base.py:465: UserWarning: X does not have valid feature names, but DecisionTreeRegressor was fitted with feature names\n",
      "  warnings.warn(\n",
      "/home/krzysztof/Projekty/Supervisionhack3/venv/lib/python3.10/site-packages/sklearn/base.py:465: UserWarning: X does not have valid feature names, but DecisionTreeRegressor was fitted with feature names\n",
      "  warnings.warn(\n",
      "/home/krzysztof/Projekty/Supervisionhack3/venv/lib/python3.10/site-packages/sklearn/base.py:465: UserWarning: X does not have valid feature names, but DecisionTreeRegressor was fitted with feature names\n",
      "  warnings.warn(\n",
      "/home/krzysztof/Projekty/Supervisionhack3/venv/lib/python3.10/site-packages/sklearn/base.py:465: UserWarning: X does not have valid feature names, but DecisionTreeRegressor was fitted with feature names\n",
      "  warnings.warn(\n",
      "/home/krzysztof/Projekty/Supervisionhack3/venv/lib/python3.10/site-packages/sklearn/base.py:465: UserWarning: X does not have valid feature names, but DecisionTreeRegressor was fitted with feature names\n",
      "  warnings.warn(\n",
      "/home/krzysztof/Projekty/Supervisionhack3/venv/lib/python3.10/site-packages/sklearn/base.py:465: UserWarning: X does not have valid feature names, but DecisionTreeRegressor was fitted with feature names\n",
      "  warnings.warn(\n",
      "/home/krzysztof/Projekty/Supervisionhack3/venv/lib/python3.10/site-packages/sklearn/base.py:465: UserWarning: X does not have valid feature names, but DecisionTreeRegressor was fitted with feature names\n",
      "  warnings.warn(\n",
      "/home/krzysztof/Projekty/Supervisionhack3/venv/lib/python3.10/site-packages/sklearn/base.py:465: UserWarning: X does not have valid feature names, but DecisionTreeRegressor was fitted with feature names\n",
      "  warnings.warn(\n",
      "/home/krzysztof/Projekty/Supervisionhack3/venv/lib/python3.10/site-packages/sklearn/base.py:465: UserWarning: X does not have valid feature names, but DecisionTreeRegressor was fitted with feature names\n",
      "  warnings.warn(\n",
      "/home/krzysztof/Projekty/Supervisionhack3/venv/lib/python3.10/site-packages/sklearn/base.py:465: UserWarning: X does not have valid feature names, but DecisionTreeRegressor was fitted with feature names\n",
      "  warnings.warn(\n",
      "/home/krzysztof/Projekty/Supervisionhack3/venv/lib/python3.10/site-packages/sklearn/base.py:465: UserWarning: X does not have valid feature names, but DecisionTreeRegressor was fitted with feature names\n",
      "  warnings.warn(\n",
      "/home/krzysztof/Projekty/Supervisionhack3/venv/lib/python3.10/site-packages/sklearn/base.py:465: UserWarning: X does not have valid feature names, but DecisionTreeRegressor was fitted with feature names\n",
      "  warnings.warn(\n",
      "/home/krzysztof/Projekty/Supervisionhack3/venv/lib/python3.10/site-packages/sklearn/base.py:465: UserWarning: X does not have valid feature names, but DecisionTreeRegressor was fitted with feature names\n",
      "  warnings.warn(\n",
      "/home/krzysztof/Projekty/Supervisionhack3/venv/lib/python3.10/site-packages/sklearn/base.py:465: UserWarning: X does not have valid feature names, but DecisionTreeRegressor was fitted with feature names\n",
      "  warnings.warn(\n",
      "/home/krzysztof/Projekty/Supervisionhack3/venv/lib/python3.10/site-packages/sklearn/base.py:465: UserWarning: X does not have valid feature names, but DecisionTreeRegressor was fitted with feature names\n",
      "  warnings.warn(\n",
      "/home/krzysztof/Projekty/Supervisionhack3/venv/lib/python3.10/site-packages/sklearn/base.py:465: UserWarning: X does not have valid feature names, but DecisionTreeRegressor was fitted with feature names\n",
      "  warnings.warn(\n",
      "/home/krzysztof/Projekty/Supervisionhack3/venv/lib/python3.10/site-packages/sklearn/base.py:465: UserWarning: X does not have valid feature names, but DecisionTreeRegressor was fitted with feature names\n",
      "  warnings.warn(\n",
      "/home/krzysztof/Projekty/Supervisionhack3/venv/lib/python3.10/site-packages/sklearn/base.py:465: UserWarning: X does not have valid feature names, but DecisionTreeRegressor was fitted with feature names\n",
      "  warnings.warn(\n",
      "/home/krzysztof/Projekty/Supervisionhack3/venv/lib/python3.10/site-packages/sklearn/base.py:465: UserWarning: X does not have valid feature names, but DecisionTreeRegressor was fitted with feature names\n",
      "  warnings.warn(\n",
      "/home/krzysztof/Projekty/Supervisionhack3/venv/lib/python3.10/site-packages/sklearn/base.py:465: UserWarning: X does not have valid feature names, but DecisionTreeRegressor was fitted with feature names\n",
      "  warnings.warn(\n",
      "/home/krzysztof/Projekty/Supervisionhack3/venv/lib/python3.10/site-packages/sklearn/base.py:465: UserWarning: X does not have valid feature names, but DecisionTreeRegressor was fitted with feature names\n",
      "  warnings.warn(\n",
      "/home/krzysztof/Projekty/Supervisionhack3/venv/lib/python3.10/site-packages/sklearn/base.py:465: UserWarning: X does not have valid feature names, but DecisionTreeRegressor was fitted with feature names\n",
      "  warnings.warn(\n",
      "/home/krzysztof/Projekty/Supervisionhack3/venv/lib/python3.10/site-packages/sklearn/base.py:465: UserWarning: X does not have valid feature names, but DecisionTreeRegressor was fitted with feature names\n",
      "  warnings.warn(\n",
      "/home/krzysztof/Projekty/Supervisionhack3/venv/lib/python3.10/site-packages/sklearn/base.py:465: UserWarning: X does not have valid feature names, but DecisionTreeRegressor was fitted with feature names\n",
      "  warnings.warn(\n",
      "/home/krzysztof/Projekty/Supervisionhack3/venv/lib/python3.10/site-packages/sklearn/base.py:465: UserWarning: X does not have valid feature names, but DecisionTreeRegressor was fitted with feature names\n",
      "  warnings.warn(\n",
      "/home/krzysztof/Projekty/Supervisionhack3/venv/lib/python3.10/site-packages/sklearn/base.py:465: UserWarning: X does not have valid feature names, but DecisionTreeRegressor was fitted with feature names\n",
      "  warnings.warn(\n",
      "/home/krzysztof/Projekty/Supervisionhack3/venv/lib/python3.10/site-packages/sklearn/base.py:465: UserWarning: X does not have valid feature names, but DecisionTreeRegressor was fitted with feature names\n",
      "  warnings.warn(\n",
      "/home/krzysztof/Projekty/Supervisionhack3/venv/lib/python3.10/site-packages/sklearn/base.py:465: UserWarning: X does not have valid feature names, but DecisionTreeRegressor was fitted with feature names\n",
      "  warnings.warn(\n",
      "/home/krzysztof/Projekty/Supervisionhack3/venv/lib/python3.10/site-packages/sklearn/base.py:465: UserWarning: X does not have valid feature names, but DecisionTreeRegressor was fitted with feature names\n",
      "  warnings.warn(\n",
      "/home/krzysztof/Projekty/Supervisionhack3/venv/lib/python3.10/site-packages/sklearn/base.py:465: UserWarning: X does not have valid feature names, but DecisionTreeRegressor was fitted with feature names\n",
      "  warnings.warn(\n",
      "/home/krzysztof/Projekty/Supervisionhack3/venv/lib/python3.10/site-packages/sklearn/base.py:465: UserWarning: X does not have valid feature names, but DecisionTreeRegressor was fitted with feature names\n",
      "  warnings.warn(\n",
      "/home/krzysztof/Projekty/Supervisionhack3/venv/lib/python3.10/site-packages/sklearn/base.py:465: UserWarning: X does not have valid feature names, but DecisionTreeRegressor was fitted with feature names\n",
      "  warnings.warn(\n",
      "/home/krzysztof/Projekty/Supervisionhack3/venv/lib/python3.10/site-packages/sklearn/base.py:465: UserWarning: X does not have valid feature names, but DecisionTreeRegressor was fitted with feature names\n",
      "  warnings.warn(\n",
      "/home/krzysztof/Projekty/Supervisionhack3/venv/lib/python3.10/site-packages/sklearn/base.py:465: UserWarning: X does not have valid feature names, but DecisionTreeRegressor was fitted with feature names\n",
      "  warnings.warn(\n",
      "/home/krzysztof/Projekty/Supervisionhack3/venv/lib/python3.10/site-packages/sklearn/base.py:465: UserWarning: X does not have valid feature names, but DecisionTreeRegressor was fitted with feature names\n",
      "  warnings.warn(\n",
      "/home/krzysztof/Projekty/Supervisionhack3/venv/lib/python3.10/site-packages/sklearn/base.py:465: UserWarning: X does not have valid feature names, but DecisionTreeRegressor was fitted with feature names\n",
      "  warnings.warn(\n",
      "/home/krzysztof/Projekty/Supervisionhack3/venv/lib/python3.10/site-packages/sklearn/base.py:465: UserWarning: X does not have valid feature names, but DecisionTreeRegressor was fitted with feature names\n",
      "  warnings.warn(\n",
      "/home/krzysztof/Projekty/Supervisionhack3/venv/lib/python3.10/site-packages/sklearn/base.py:465: UserWarning: X does not have valid feature names, but DecisionTreeRegressor was fitted with feature names\n",
      "  warnings.warn(\n",
      "/home/krzysztof/Projekty/Supervisionhack3/venv/lib/python3.10/site-packages/sklearn/base.py:465: UserWarning: X does not have valid feature names, but DecisionTreeRegressor was fitted with feature names\n",
      "  warnings.warn(\n",
      "/home/krzysztof/Projekty/Supervisionhack3/venv/lib/python3.10/site-packages/sklearn/base.py:465: UserWarning: X does not have valid feature names, but DecisionTreeRegressor was fitted with feature names\n",
      "  warnings.warn(\n",
      "/home/krzysztof/Projekty/Supervisionhack3/venv/lib/python3.10/site-packages/sklearn/base.py:465: UserWarning: X does not have valid feature names, but DecisionTreeRegressor was fitted with feature names\n",
      "  warnings.warn(\n",
      "/home/krzysztof/Projekty/Supervisionhack3/venv/lib/python3.10/site-packages/sklearn/base.py:465: UserWarning: X does not have valid feature names, but DecisionTreeRegressor was fitted with feature names\n",
      "  warnings.warn(\n",
      "/home/krzysztof/Projekty/Supervisionhack3/venv/lib/python3.10/site-packages/sklearn/base.py:465: UserWarning: X does not have valid feature names, but DecisionTreeRegressor was fitted with feature names\n",
      "  warnings.warn(\n",
      "/home/krzysztof/Projekty/Supervisionhack3/venv/lib/python3.10/site-packages/sklearn/base.py:465: UserWarning: X does not have valid feature names, but DecisionTreeRegressor was fitted with feature names\n",
      "  warnings.warn(\n",
      "/home/krzysztof/Projekty/Supervisionhack3/venv/lib/python3.10/site-packages/sklearn/base.py:465: UserWarning: X does not have valid feature names, but DecisionTreeRegressor was fitted with feature names\n",
      "  warnings.warn(\n",
      "/home/krzysztof/Projekty/Supervisionhack3/venv/lib/python3.10/site-packages/sklearn/base.py:465: UserWarning: X does not have valid feature names, but DecisionTreeRegressor was fitted with feature names\n",
      "  warnings.warn(\n",
      "/home/krzysztof/Projekty/Supervisionhack3/venv/lib/python3.10/site-packages/sklearn/base.py:465: UserWarning: X does not have valid feature names, but DecisionTreeRegressor was fitted with feature names\n",
      "  warnings.warn(\n",
      "/home/krzysztof/Projekty/Supervisionhack3/venv/lib/python3.10/site-packages/sklearn/base.py:465: UserWarning: X does not have valid feature names, but DecisionTreeRegressor was fitted with feature names\n",
      "  warnings.warn(\n",
      "/home/krzysztof/Projekty/Supervisionhack3/venv/lib/python3.10/site-packages/sklearn/base.py:465: UserWarning: X does not have valid feature names, but DecisionTreeRegressor was fitted with feature names\n",
      "  warnings.warn(\n",
      "/home/krzysztof/Projekty/Supervisionhack3/venv/lib/python3.10/site-packages/sklearn/base.py:465: UserWarning: X does not have valid feature names, but DecisionTreeRegressor was fitted with feature names\n",
      "  warnings.warn(\n",
      "/home/krzysztof/Projekty/Supervisionhack3/venv/lib/python3.10/site-packages/sklearn/base.py:465: UserWarning: X does not have valid feature names, but DecisionTreeRegressor was fitted with feature names\n",
      "  warnings.warn(\n",
      "/home/krzysztof/Projekty/Supervisionhack3/venv/lib/python3.10/site-packages/sklearn/base.py:465: UserWarning: X does not have valid feature names, but DecisionTreeRegressor was fitted with feature names\n",
      "  warnings.warn(\n",
      "/home/krzysztof/Projekty/Supervisionhack3/venv/lib/python3.10/site-packages/sklearn/base.py:465: UserWarning: X does not have valid feature names, but DecisionTreeRegressor was fitted with feature names\n",
      "  warnings.warn(\n",
      "/home/krzysztof/Projekty/Supervisionhack3/venv/lib/python3.10/site-packages/sklearn/base.py:465: UserWarning: X does not have valid feature names, but DecisionTreeRegressor was fitted with feature names\n",
      "  warnings.warn(\n",
      "/home/krzysztof/Projekty/Supervisionhack3/venv/lib/python3.10/site-packages/sklearn/base.py:465: UserWarning: X does not have valid feature names, but DecisionTreeRegressor was fitted with feature names\n",
      "  warnings.warn(\n",
      "/home/krzysztof/Projekty/Supervisionhack3/venv/lib/python3.10/site-packages/sklearn/base.py:465: UserWarning: X does not have valid feature names, but DecisionTreeRegressor was fitted with feature names\n",
      "  warnings.warn(\n",
      "/home/krzysztof/Projekty/Supervisionhack3/venv/lib/python3.10/site-packages/sklearn/base.py:465: UserWarning: X does not have valid feature names, but DecisionTreeRegressor was fitted with feature names\n",
      "  warnings.warn(\n",
      "/home/krzysztof/Projekty/Supervisionhack3/venv/lib/python3.10/site-packages/sklearn/base.py:465: UserWarning: X does not have valid feature names, but DecisionTreeRegressor was fitted with feature names\n",
      "  warnings.warn(\n",
      "/home/krzysztof/Projekty/Supervisionhack3/venv/lib/python3.10/site-packages/sklearn/base.py:465: UserWarning: X does not have valid feature names, but DecisionTreeRegressor was fitted with feature names\n",
      "  warnings.warn(\n",
      "/home/krzysztof/Projekty/Supervisionhack3/venv/lib/python3.10/site-packages/sklearn/base.py:465: UserWarning: X does not have valid feature names, but DecisionTreeRegressor was fitted with feature names\n",
      "  warnings.warn(\n",
      "/home/krzysztof/Projekty/Supervisionhack3/venv/lib/python3.10/site-packages/sklearn/base.py:465: UserWarning: X does not have valid feature names, but DecisionTreeRegressor was fitted with feature names\n",
      "  warnings.warn(\n",
      "/home/krzysztof/Projekty/Supervisionhack3/venv/lib/python3.10/site-packages/sklearn/base.py:465: UserWarning: X does not have valid feature names, but DecisionTreeRegressor was fitted with feature names\n",
      "  warnings.warn(\n",
      "/home/krzysztof/Projekty/Supervisionhack3/venv/lib/python3.10/site-packages/sklearn/base.py:465: UserWarning: X does not have valid feature names, but DecisionTreeRegressor was fitted with feature names\n",
      "  warnings.warn(\n",
      "/home/krzysztof/Projekty/Supervisionhack3/venv/lib/python3.10/site-packages/sklearn/base.py:465: UserWarning: X does not have valid feature names, but DecisionTreeRegressor was fitted with feature names\n",
      "  warnings.warn(\n",
      "/home/krzysztof/Projekty/Supervisionhack3/venv/lib/python3.10/site-packages/sklearn/base.py:465: UserWarning: X does not have valid feature names, but DecisionTreeRegressor was fitted with feature names\n",
      "  warnings.warn(\n",
      "/home/krzysztof/Projekty/Supervisionhack3/venv/lib/python3.10/site-packages/sklearn/base.py:465: UserWarning: X does not have valid feature names, but DecisionTreeRegressor was fitted with feature names\n",
      "  warnings.warn(\n",
      "/home/krzysztof/Projekty/Supervisionhack3/venv/lib/python3.10/site-packages/sklearn/base.py:465: UserWarning: X does not have valid feature names, but DecisionTreeRegressor was fitted with feature names\n",
      "  warnings.warn(\n",
      "/home/krzysztof/Projekty/Supervisionhack3/venv/lib/python3.10/site-packages/sklearn/base.py:465: UserWarning: X does not have valid feature names, but DecisionTreeRegressor was fitted with feature names\n",
      "  warnings.warn(\n",
      "/home/krzysztof/Projekty/Supervisionhack3/venv/lib/python3.10/site-packages/sklearn/base.py:465: UserWarning: X does not have valid feature names, but DecisionTreeRegressor was fitted with feature names\n",
      "  warnings.warn(\n",
      "/home/krzysztof/Projekty/Supervisionhack3/venv/lib/python3.10/site-packages/sklearn/base.py:465: UserWarning: X does not have valid feature names, but DecisionTreeRegressor was fitted with feature names\n",
      "  warnings.warn(\n",
      "/home/krzysztof/Projekty/Supervisionhack3/venv/lib/python3.10/site-packages/sklearn/base.py:465: UserWarning: X does not have valid feature names, but DecisionTreeRegressor was fitted with feature names\n",
      "  warnings.warn(\n",
      "/home/krzysztof/Projekty/Supervisionhack3/venv/lib/python3.10/site-packages/sklearn/base.py:465: UserWarning: X does not have valid feature names, but DecisionTreeRegressor was fitted with feature names\n",
      "  warnings.warn(\n",
      "/home/krzysztof/Projekty/Supervisionhack3/venv/lib/python3.10/site-packages/sklearn/base.py:465: UserWarning: X does not have valid feature names, but DecisionTreeRegressor was fitted with feature names\n",
      "  warnings.warn(\n",
      "/home/krzysztof/Projekty/Supervisionhack3/venv/lib/python3.10/site-packages/sklearn/base.py:465: UserWarning: X does not have valid feature names, but DecisionTreeRegressor was fitted with feature names\n",
      "  warnings.warn(\n",
      "/home/krzysztof/Projekty/Supervisionhack3/venv/lib/python3.10/site-packages/sklearn/base.py:465: UserWarning: X does not have valid feature names, but DecisionTreeRegressor was fitted with feature names\n",
      "  warnings.warn(\n",
      "/home/krzysztof/Projekty/Supervisionhack3/venv/lib/python3.10/site-packages/sklearn/base.py:465: UserWarning: X does not have valid feature names, but DecisionTreeRegressor was fitted with feature names\n",
      "  warnings.warn(\n",
      "/home/krzysztof/Projekty/Supervisionhack3/venv/lib/python3.10/site-packages/sklearn/base.py:465: UserWarning: X does not have valid feature names, but DecisionTreeRegressor was fitted with feature names\n",
      "  warnings.warn(\n",
      "/home/krzysztof/Projekty/Supervisionhack3/venv/lib/python3.10/site-packages/sklearn/base.py:465: UserWarning: X does not have valid feature names, but DecisionTreeRegressor was fitted with feature names\n",
      "  warnings.warn(\n",
      "/home/krzysztof/Projekty/Supervisionhack3/venv/lib/python3.10/site-packages/sklearn/base.py:465: UserWarning: X does not have valid feature names, but DecisionTreeRegressor was fitted with feature names\n",
      "  warnings.warn(\n",
      "/home/krzysztof/Projekty/Supervisionhack3/venv/lib/python3.10/site-packages/sklearn/base.py:465: UserWarning: X does not have valid feature names, but DecisionTreeRegressor was fitted with feature names\n",
      "  warnings.warn(\n",
      "/home/krzysztof/Projekty/Supervisionhack3/venv/lib/python3.10/site-packages/sklearn/base.py:465: UserWarning: X does not have valid feature names, but DecisionTreeRegressor was fitted with feature names\n",
      "  warnings.warn(\n",
      "/home/krzysztof/Projekty/Supervisionhack3/venv/lib/python3.10/site-packages/sklearn/base.py:465: UserWarning: X does not have valid feature names, but DecisionTreeRegressor was fitted with feature names\n",
      "  warnings.warn(\n",
      "/home/krzysztof/Projekty/Supervisionhack3/venv/lib/python3.10/site-packages/sklearn/base.py:465: UserWarning: X does not have valid feature names, but DecisionTreeRegressor was fitted with feature names\n",
      "  warnings.warn(\n",
      "/home/krzysztof/Projekty/Supervisionhack3/venv/lib/python3.10/site-packages/sklearn/base.py:465: UserWarning: X does not have valid feature names, but DecisionTreeRegressor was fitted with feature names\n",
      "  warnings.warn(\n",
      "/home/krzysztof/Projekty/Supervisionhack3/venv/lib/python3.10/site-packages/sklearn/base.py:465: UserWarning: X does not have valid feature names, but DecisionTreeRegressor was fitted with feature names\n",
      "  warnings.warn(\n",
      "/home/krzysztof/Projekty/Supervisionhack3/venv/lib/python3.10/site-packages/sklearn/base.py:465: UserWarning: X does not have valid feature names, but DecisionTreeRegressor was fitted with feature names\n",
      "  warnings.warn(\n",
      "/home/krzysztof/Projekty/Supervisionhack3/venv/lib/python3.10/site-packages/sklearn/base.py:465: UserWarning: X does not have valid feature names, but DecisionTreeRegressor was fitted with feature names\n",
      "  warnings.warn(\n",
      "/home/krzysztof/Projekty/Supervisionhack3/venv/lib/python3.10/site-packages/sklearn/base.py:465: UserWarning: X does not have valid feature names, but DecisionTreeRegressor was fitted with feature names\n",
      "  warnings.warn(\n",
      "/home/krzysztof/Projekty/Supervisionhack3/venv/lib/python3.10/site-packages/sklearn/base.py:465: UserWarning: X does not have valid feature names, but DecisionTreeRegressor was fitted with feature names\n",
      "  warnings.warn(\n",
      "/home/krzysztof/Projekty/Supervisionhack3/venv/lib/python3.10/site-packages/sklearn/base.py:465: UserWarning: X does not have valid feature names, but DecisionTreeRegressor was fitted with feature names\n",
      "  warnings.warn(\n",
      "/home/krzysztof/Projekty/Supervisionhack3/venv/lib/python3.10/site-packages/sklearn/base.py:465: UserWarning: X does not have valid feature names, but DecisionTreeRegressor was fitted with feature names\n",
      "  warnings.warn(\n",
      "/home/krzysztof/Projekty/Supervisionhack3/venv/lib/python3.10/site-packages/sklearn/base.py:465: UserWarning: X does not have valid feature names, but DecisionTreeRegressor was fitted with feature names\n",
      "  warnings.warn(\n",
      "/home/krzysztof/Projekty/Supervisionhack3/venv/lib/python3.10/site-packages/sklearn/base.py:465: UserWarning: X does not have valid feature names, but DecisionTreeRegressor was fitted with feature names\n",
      "  warnings.warn(\n",
      "/home/krzysztof/Projekty/Supervisionhack3/venv/lib/python3.10/site-packages/sklearn/base.py:465: UserWarning: X does not have valid feature names, but DecisionTreeRegressor was fitted with feature names\n",
      "  warnings.warn(\n",
      "/home/krzysztof/Projekty/Supervisionhack3/venv/lib/python3.10/site-packages/sklearn/base.py:465: UserWarning: X does not have valid feature names, but DecisionTreeRegressor was fitted with feature names\n",
      "  warnings.warn(\n"
     ]
    }
   ],
   "source": [
    "for _ in range(10):\n",
    "    n = generate_name()\n",
    "    d = datetime.datetime.fromtimestamp(random.randint(1514769289, 1696122889)).date().strftime('%d.%m.%Y')\n",
    "    \n",
    "    times = np.random.randint(1, 6)\n",
    "    if times > 2:\n",
    "        for _ in range(times):\n",
    "            i = random.choices(single_interval,\n",
    "                   [1, 1, 1, 1, 1, 1, 1, 13], k=1)[0]\n",
    "            if i == np.NaN:\n",
    "                t = 0 # konto oszczędnościowe\n",
    "            else:\n",
    "                t = 0 if random.random() > 0.8 else 1\n",
    "        \n",
    "            row = gen_row(n, d, t, i)\n",
    "            df_new = pd.concat([df_new, row])\n",
    "    else:\n",
    "        for _ in range(times):\n",
    "            if random.random() > 0.3:\n",
    "                i = random.choices(single_interval,\n",
    "                                   [1, 1, 1, 1, 1, 1, 1, 13], k=1)[0]\n",
    "                if i == np.NaN:\n",
    "                    t = 0 # konto oszczędnościowe\n",
    "                else:\n",
    "                    t = 0 if random.random() > 0.8 else 1\n",
    "                \n",
    "                row = gen_row(n, d, t, i)\n",
    "                df_new = pd.concat([df_new, row])\n",
    "            else:\n",
    "                for i in random.choice(intervals):\n",
    "                    t = 0 if random.random() > 0.8 else 1\n",
    "                    row = gen_row(n, d, t, i)\n",
    "                    df_new = pd.concat([df_new, row])\n",
    "            "
   ],
   "metadata": {
    "collapsed": false,
    "ExecuteTime": {
     "end_time": "2023-11-19T02:11:54.041769130Z",
     "start_time": "2023-11-19T02:11:53.887473846Z"
    }
   },
   "id": "61055dc4e42383df"
  },
  {
   "cell_type": "code",
   "execution_count": 177,
   "outputs": [
    {
     "data": {
      "text/plain": "                            Bank                Nazwa oferty  Oprocentowanie  \\\n0   Bank Handlowy w Warszawie SA       Konto oszczędnościowe          0.0200   \n1   Bank Handlowy w Warszawie SA       Konto oszczędnościowe          0.0001   \n2   Bank Handlowy w Warszawie SA       Konto oszczędnościowe          0.0001   \n3   Bank Handlowy w Warszawie SA  Konto superoszczędnościowe          0.0500   \n4   Bank Handlowy w Warszawie SA  Konto superoszczędnościowe          0.0005   \n..                           ...                         ...             ...   \n0                  Random Bank                        Lokata          0.0006   \n0                  Random Bank         Konto oszczędnościowe          0.0279   \n0                  Random Bank                        Lokata          0.0009   \n0                  Random Bank                        Lokata          0.0304   \n0             Awesome Bank Inny        Konto oszczędnościowe          0.0021   \n\n               Typ oferty  Długość (miesiące)   Typ klienta Rodzaj oferty  \\\n0   Konto oszczędnościowe                 NaN  Indywidualny           NaN   \n1   Konto oszczędnościowe                 NaN  Indywidualny           NaN   \n2   Konto oszczędnościowe                 NaN  Indywidualny           NaN   \n3   Konto oszczędnościowe                 NaN  Indywidualny           NaN   \n4   Konto oszczędnościowe                 NaN  Indywidualny           NaN   \n..                    ...                 ...           ...           ...   \n0                  Lokata                 NaN     Biznesowy                 \n0   Konto oszczędnościowe                 NaN  Indywidualny                 \n0                  Lokata                 NaN     Biznesowy  Nowi klienci   \n0                  Lokata                 NaN  Indywidualny                 \n0   Konto oszczędnościowe                 NaN  Indywidualny                 \n\n    Minimalne środki  Maksymalne środki Waluta           Uwagi  \\\n0                NaN                NaN    PLN             NaN   \n1                NaN                NaN    USD             NaN   \n2                NaN                NaN    GBP             NaN   \n3                NaN            20000.0    PLN  Powyżej 20k 2%   \n4                NaN            20000.0    USD  Powyżej 20k 0%   \n..               ...                ...    ...             ...   \n0             1800.0            59800.0    PLN                   \n0                0.0            99600.0    PLN                   \n0             1600.0             6300.0    USD                   \n0             2300.0                NaN    PLN                   \n0                0.0             6400.0    EUR                   \n\n               Ważne od  \n0   2023-12-05 00:00:00  \n1   2023-12-05 00:00:00  \n2   2023-12-05 00:00:00  \n3   2023-12-05 00:00:00  \n4   2023-12-05 00:00:00  \n..                  ...  \n0            21.01.2021  \n0            21.01.2021  \n0            21.01.2021  \n0            21.01.2021  \n0            25.08.2018  \n\n[185 rows x 12 columns]",
      "text/html": "<div>\n<style scoped>\n    .dataframe tbody tr th:only-of-type {\n        vertical-align: middle;\n    }\n\n    .dataframe tbody tr th {\n        vertical-align: top;\n    }\n\n    .dataframe thead th {\n        text-align: right;\n    }\n</style>\n<table border=\"1\" class=\"dataframe\">\n  <thead>\n    <tr style=\"text-align: right;\">\n      <th></th>\n      <th>Bank</th>\n      <th>Nazwa oferty</th>\n      <th>Oprocentowanie</th>\n      <th>Typ oferty</th>\n      <th>Długość (miesiące)</th>\n      <th>Typ klienta</th>\n      <th>Rodzaj oferty</th>\n      <th>Minimalne środki</th>\n      <th>Maksymalne środki</th>\n      <th>Waluta</th>\n      <th>Uwagi</th>\n      <th>Ważne od</th>\n    </tr>\n  </thead>\n  <tbody>\n    <tr>\n      <th>0</th>\n      <td>Bank Handlowy w Warszawie SA</td>\n      <td>Konto oszczędnościowe</td>\n      <td>0.0200</td>\n      <td>Konto oszczędnościowe</td>\n      <td>NaN</td>\n      <td>Indywidualny</td>\n      <td>NaN</td>\n      <td>NaN</td>\n      <td>NaN</td>\n      <td>PLN</td>\n      <td>NaN</td>\n      <td>2023-12-05 00:00:00</td>\n    </tr>\n    <tr>\n      <th>1</th>\n      <td>Bank Handlowy w Warszawie SA</td>\n      <td>Konto oszczędnościowe</td>\n      <td>0.0001</td>\n      <td>Konto oszczędnościowe</td>\n      <td>NaN</td>\n      <td>Indywidualny</td>\n      <td>NaN</td>\n      <td>NaN</td>\n      <td>NaN</td>\n      <td>USD</td>\n      <td>NaN</td>\n      <td>2023-12-05 00:00:00</td>\n    </tr>\n    <tr>\n      <th>2</th>\n      <td>Bank Handlowy w Warszawie SA</td>\n      <td>Konto oszczędnościowe</td>\n      <td>0.0001</td>\n      <td>Konto oszczędnościowe</td>\n      <td>NaN</td>\n      <td>Indywidualny</td>\n      <td>NaN</td>\n      <td>NaN</td>\n      <td>NaN</td>\n      <td>GBP</td>\n      <td>NaN</td>\n      <td>2023-12-05 00:00:00</td>\n    </tr>\n    <tr>\n      <th>3</th>\n      <td>Bank Handlowy w Warszawie SA</td>\n      <td>Konto superoszczędnościowe</td>\n      <td>0.0500</td>\n      <td>Konto oszczędnościowe</td>\n      <td>NaN</td>\n      <td>Indywidualny</td>\n      <td>NaN</td>\n      <td>NaN</td>\n      <td>20000.0</td>\n      <td>PLN</td>\n      <td>Powyżej 20k 2%</td>\n      <td>2023-12-05 00:00:00</td>\n    </tr>\n    <tr>\n      <th>4</th>\n      <td>Bank Handlowy w Warszawie SA</td>\n      <td>Konto superoszczędnościowe</td>\n      <td>0.0005</td>\n      <td>Konto oszczędnościowe</td>\n      <td>NaN</td>\n      <td>Indywidualny</td>\n      <td>NaN</td>\n      <td>NaN</td>\n      <td>20000.0</td>\n      <td>USD</td>\n      <td>Powyżej 20k 0%</td>\n      <td>2023-12-05 00:00:00</td>\n    </tr>\n    <tr>\n      <th>...</th>\n      <td>...</td>\n      <td>...</td>\n      <td>...</td>\n      <td>...</td>\n      <td>...</td>\n      <td>...</td>\n      <td>...</td>\n      <td>...</td>\n      <td>...</td>\n      <td>...</td>\n      <td>...</td>\n      <td>...</td>\n    </tr>\n    <tr>\n      <th>0</th>\n      <td>Random Bank</td>\n      <td>Lokata</td>\n      <td>0.0006</td>\n      <td>Lokata</td>\n      <td>NaN</td>\n      <td>Biznesowy</td>\n      <td></td>\n      <td>1800.0</td>\n      <td>59800.0</td>\n      <td>PLN</td>\n      <td></td>\n      <td>21.01.2021</td>\n    </tr>\n    <tr>\n      <th>0</th>\n      <td>Random Bank</td>\n      <td>Konto oszczędnościowe</td>\n      <td>0.0279</td>\n      <td>Konto oszczędnościowe</td>\n      <td>NaN</td>\n      <td>Indywidualny</td>\n      <td></td>\n      <td>0.0</td>\n      <td>99600.0</td>\n      <td>PLN</td>\n      <td></td>\n      <td>21.01.2021</td>\n    </tr>\n    <tr>\n      <th>0</th>\n      <td>Random Bank</td>\n      <td>Lokata</td>\n      <td>0.0009</td>\n      <td>Lokata</td>\n      <td>NaN</td>\n      <td>Biznesowy</td>\n      <td>Nowi klienci</td>\n      <td>1600.0</td>\n      <td>6300.0</td>\n      <td>USD</td>\n      <td></td>\n      <td>21.01.2021</td>\n    </tr>\n    <tr>\n      <th>0</th>\n      <td>Random Bank</td>\n      <td>Lokata</td>\n      <td>0.0304</td>\n      <td>Lokata</td>\n      <td>NaN</td>\n      <td>Indywidualny</td>\n      <td></td>\n      <td>2300.0</td>\n      <td>NaN</td>\n      <td>PLN</td>\n      <td></td>\n      <td>21.01.2021</td>\n    </tr>\n    <tr>\n      <th>0</th>\n      <td>Awesome Bank Inny</td>\n      <td>Konto oszczędnościowe</td>\n      <td>0.0021</td>\n      <td>Konto oszczędnościowe</td>\n      <td>NaN</td>\n      <td>Indywidualny</td>\n      <td></td>\n      <td>0.0</td>\n      <td>6400.0</td>\n      <td>EUR</td>\n      <td></td>\n      <td>25.08.2018</td>\n    </tr>\n  </tbody>\n</table>\n<p>185 rows × 12 columns</p>\n</div>"
     },
     "execution_count": 177,
     "metadata": {},
     "output_type": "execute_result"
    }
   ],
   "source": [
    "df_new"
   ],
   "metadata": {
    "collapsed": false,
    "ExecuteTime": {
     "end_time": "2023-11-19T02:12:00.009296425Z",
     "start_time": "2023-11-19T02:11:59.979781266Z"
    }
   },
   "id": "c99bc7a3901fae2c"
  }
 ],
 "metadata": {
  "kernelspec": {
   "display_name": "Python 3",
   "language": "python",
   "name": "python3"
  },
  "language_info": {
   "codemirror_mode": {
    "name": "ipython",
    "version": 2
   },
   "file_extension": ".py",
   "mimetype": "text/x-python",
   "name": "python",
   "nbconvert_exporter": "python",
   "pygments_lexer": "ipython2",
   "version": "2.7.6"
  }
 },
 "nbformat": 4,
 "nbformat_minor": 5
}
